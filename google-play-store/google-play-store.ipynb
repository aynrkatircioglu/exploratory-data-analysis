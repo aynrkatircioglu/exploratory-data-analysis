{
 "cells": [
  {
   "cell_type": "markdown",
   "id": "prescription-services",
   "metadata": {
    "papermill": {
     "duration": 0.055707,
     "end_time": "2021-04-23T20:19:11.524312",
     "exception": false,
     "start_time": "2021-04-23T20:19:11.468605",
     "status": "completed"
    },
    "tags": []
   },
   "source": [
    "<h1 style=\"text-align:center\">   \n",
    "      <font color = purple >🎮👾 Google Play Store 👾🎮  </font>    \n",
    "</h1>\n",
    "<hr style=\"width:100%;height:5px;border-width:0;color:gray;background-color:gray\">\n",
    "<center><img src=\"https://media.giphy.com/media/MRDICUC5enJy8/giphy.gif\"></center>"
   ]
  },
  {
   "cell_type": "markdown",
   "id": "homeless-estonia",
   "metadata": {
    "papermill": {
     "duration": 0.054858,
     "end_time": "2021-04-23T20:19:11.634144",
     "exception": false,
     "start_time": "2021-04-23T20:19:11.579286",
     "status": "completed"
    },
    "tags": []
   },
   "source": [
    "Gerekli kütüphaneleri yükleyelim."
   ]
  },
  {
   "cell_type": "code",
   "execution_count": 1,
   "id": "oriented-climate",
   "metadata": {
    "_cell_guid": "b1076dfc-b9ad-4769-8c92-a6c4dae69d19",
    "_uuid": "8f2839f25d086af736a60e9eeb907d3b93b6e0e5",
    "execution": {
     "iopub.execute_input": "2021-04-23T20:19:11.754451Z",
     "iopub.status.busy": "2021-04-23T20:19:11.753638Z",
     "iopub.status.idle": "2021-04-23T20:19:14.472276Z",
     "shell.execute_reply": "2021-04-23T20:19:14.472918Z"
    },
    "papermill": {
     "duration": 2.784422,
     "end_time": "2021-04-23T20:19:14.473289",
     "exception": false,
     "start_time": "2021-04-23T20:19:11.688867",
     "status": "completed"
    },
    "tags": []
   },
   "outputs": [
    {
     "data": {
      "text/html": [
       "        <script type=\"text/javascript\">\n",
       "        window.PlotlyConfig = {MathJaxConfig: 'local'};\n",
       "        if (window.MathJax) {MathJax.Hub.Config({SVG: {font: \"STIX-Web\"}});}\n",
       "        if (typeof require !== 'undefined') {\n",
       "        require.undef(\"plotly\");\n",
       "        requirejs.config({\n",
       "            paths: {\n",
       "                'plotly': ['https://cdn.plot.ly/plotly-latest.min']\n",
       "            }\n",
       "        });\n",
       "        require(['plotly'], function(Plotly) {\n",
       "            window._Plotly = Plotly;\n",
       "        });\n",
       "        }\n",
       "        </script>\n",
       "        "
      ]
     },
     "metadata": {},
     "output_type": "display_data"
    },
    {
     "name": "stdout",
     "output_type": "stream",
     "text": [
      "/kaggle/input/google-play-store-apps/googleplaystore.csv\n",
      "/kaggle/input/google-play-store-apps/license.txt\n",
      "/kaggle/input/google-play-store-apps/googleplaystore_user_reviews.csv\n"
     ]
    }
   ],
   "source": [
    "import numpy as np # linear algebra\n",
    "import pandas as pd # data processing, CSV file I/O (e.g. pd.read_csv)\n",
    "import seaborn as sns\n",
    "import matplotlib.pyplot as plt\n",
    "from wordcloud import WordCloud,STOPWORDS\n",
    "from PIL import Image\n",
    "import plotly.express as px\n",
    "import plotly.graph_objects as go\n",
    "from plotly.subplots import make_subplots\n",
    "from plotly.offline import init_notebook_mode, iplot # plotly offline mode\n",
    "init_notebook_mode(connected=True) \n",
    "import warnings\n",
    "warnings.filterwarnings(\"ignore\")\n",
    "# Input data files are available in the read-only \"../input/\" directory\n",
    "# For example, running this (by clicking run or pressing Shift+Enter) will list all files under the input directory\n",
    "\n",
    "import os\n",
    "for dirname, _, filenames in os.walk('/kaggle/input'):\n",
    "    for filename in filenames:\n",
    "        print(os.path.join(dirname, filename))"
   ]
  },
  {
   "cell_type": "markdown",
   "id": "written-convert",
   "metadata": {
    "papermill": {
     "duration": 0.056748,
     "end_time": "2021-04-23T20:19:14.587390",
     "exception": false,
     "start_time": "2021-04-23T20:19:14.530642",
     "status": "completed"
    },
    "tags": []
   },
   "source": [
    "Veri çerçevemizi bulunduğumuz dizinden yükleyelim ve bir veri çerçevesi haline getirerek df değişkenine atayalım. (pd.read_csv(...csv))"
   ]
  },
  {
   "cell_type": "code",
   "execution_count": 2,
   "id": "identified-classic",
   "metadata": {
    "execution": {
     "iopub.execute_input": "2021-04-23T20:19:14.703244Z",
     "iopub.status.busy": "2021-04-23T20:19:14.702563Z",
     "iopub.status.idle": "2021-04-23T20:19:14.784592Z",
     "shell.execute_reply": "2021-04-23T20:19:14.784053Z"
    },
    "papermill": {
     "duration": 0.141225,
     "end_time": "2021-04-23T20:19:14.784715",
     "exception": false,
     "start_time": "2021-04-23T20:19:14.643490",
     "status": "completed"
    },
    "tags": []
   },
   "outputs": [],
   "source": [
    "googleplaystore = pd.read_csv('../input/google-play-store-apps/googleplaystore.csv')\n",
    "df = googleplaystore.copy()"
   ]
  },
  {
   "cell_type": "markdown",
   "id": "peripheral-domain",
   "metadata": {
    "papermill": {
     "duration": 0.036475,
     "end_time": "2021-04-23T20:19:14.859626",
     "exception": false,
     "start_time": "2021-04-23T20:19:14.823151",
     "status": "completed"
    },
    "tags": []
   },
   "source": [
    "Veri çerçevesinin ilk 5 gözlemini görüntüleyelim."
   ]
  },
  {
   "cell_type": "code",
   "execution_count": 3,
   "id": "experimental-significance",
   "metadata": {
    "execution": {
     "iopub.execute_input": "2021-04-23T20:19:14.947723Z",
     "iopub.status.busy": "2021-04-23T20:19:14.947167Z",
     "iopub.status.idle": "2021-04-23T20:19:14.977932Z",
     "shell.execute_reply": "2021-04-23T20:19:14.977461Z"
    },
    "papermill": {
     "duration": 0.081905,
     "end_time": "2021-04-23T20:19:14.978078",
     "exception": false,
     "start_time": "2021-04-23T20:19:14.896173",
     "status": "completed"
    },
    "tags": []
   },
   "outputs": [
    {
     "data": {
      "text/html": [
       "<div>\n",
       "<style scoped>\n",
       "    .dataframe tbody tr th:only-of-type {\n",
       "        vertical-align: middle;\n",
       "    }\n",
       "\n",
       "    .dataframe tbody tr th {\n",
       "        vertical-align: top;\n",
       "    }\n",
       "\n",
       "    .dataframe thead th {\n",
       "        text-align: right;\n",
       "    }\n",
       "</style>\n",
       "<table border=\"1\" class=\"dataframe\">\n",
       "  <thead>\n",
       "    <tr style=\"text-align: right;\">\n",
       "      <th></th>\n",
       "      <th>App</th>\n",
       "      <th>Category</th>\n",
       "      <th>Rating</th>\n",
       "      <th>Reviews</th>\n",
       "      <th>Size</th>\n",
       "      <th>Installs</th>\n",
       "      <th>Type</th>\n",
       "      <th>Price</th>\n",
       "      <th>Content Rating</th>\n",
       "      <th>Genres</th>\n",
       "      <th>Last Updated</th>\n",
       "      <th>Current Ver</th>\n",
       "      <th>Android Ver</th>\n",
       "    </tr>\n",
       "  </thead>\n",
       "  <tbody>\n",
       "    <tr>\n",
       "      <th>0</th>\n",
       "      <td>Photo Editor &amp; Candy Camera &amp; Grid &amp; ScrapBook</td>\n",
       "      <td>ART_AND_DESIGN</td>\n",
       "      <td>4.1</td>\n",
       "      <td>159</td>\n",
       "      <td>19M</td>\n",
       "      <td>10,000+</td>\n",
       "      <td>Free</td>\n",
       "      <td>0</td>\n",
       "      <td>Everyone</td>\n",
       "      <td>Art &amp; Design</td>\n",
       "      <td>January 7, 2018</td>\n",
       "      <td>1.0.0</td>\n",
       "      <td>4.0.3 and up</td>\n",
       "    </tr>\n",
       "    <tr>\n",
       "      <th>1</th>\n",
       "      <td>Coloring book moana</td>\n",
       "      <td>ART_AND_DESIGN</td>\n",
       "      <td>3.9</td>\n",
       "      <td>967</td>\n",
       "      <td>14M</td>\n",
       "      <td>500,000+</td>\n",
       "      <td>Free</td>\n",
       "      <td>0</td>\n",
       "      <td>Everyone</td>\n",
       "      <td>Art &amp; Design;Pretend Play</td>\n",
       "      <td>January 15, 2018</td>\n",
       "      <td>2.0.0</td>\n",
       "      <td>4.0.3 and up</td>\n",
       "    </tr>\n",
       "    <tr>\n",
       "      <th>2</th>\n",
       "      <td>U Launcher Lite – FREE Live Cool Themes, Hide ...</td>\n",
       "      <td>ART_AND_DESIGN</td>\n",
       "      <td>4.7</td>\n",
       "      <td>87510</td>\n",
       "      <td>8.7M</td>\n",
       "      <td>5,000,000+</td>\n",
       "      <td>Free</td>\n",
       "      <td>0</td>\n",
       "      <td>Everyone</td>\n",
       "      <td>Art &amp; Design</td>\n",
       "      <td>August 1, 2018</td>\n",
       "      <td>1.2.4</td>\n",
       "      <td>4.0.3 and up</td>\n",
       "    </tr>\n",
       "    <tr>\n",
       "      <th>3</th>\n",
       "      <td>Sketch - Draw &amp; Paint</td>\n",
       "      <td>ART_AND_DESIGN</td>\n",
       "      <td>4.5</td>\n",
       "      <td>215644</td>\n",
       "      <td>25M</td>\n",
       "      <td>50,000,000+</td>\n",
       "      <td>Free</td>\n",
       "      <td>0</td>\n",
       "      <td>Teen</td>\n",
       "      <td>Art &amp; Design</td>\n",
       "      <td>June 8, 2018</td>\n",
       "      <td>Varies with device</td>\n",
       "      <td>4.2 and up</td>\n",
       "    </tr>\n",
       "    <tr>\n",
       "      <th>4</th>\n",
       "      <td>Pixel Draw - Number Art Coloring Book</td>\n",
       "      <td>ART_AND_DESIGN</td>\n",
       "      <td>4.3</td>\n",
       "      <td>967</td>\n",
       "      <td>2.8M</td>\n",
       "      <td>100,000+</td>\n",
       "      <td>Free</td>\n",
       "      <td>0</td>\n",
       "      <td>Everyone</td>\n",
       "      <td>Art &amp; Design;Creativity</td>\n",
       "      <td>June 20, 2018</td>\n",
       "      <td>1.1</td>\n",
       "      <td>4.4 and up</td>\n",
       "    </tr>\n",
       "  </tbody>\n",
       "</table>\n",
       "</div>"
      ],
      "text/plain": [
       "                                                 App        Category  Rating  \\\n",
       "0     Photo Editor & Candy Camera & Grid & ScrapBook  ART_AND_DESIGN     4.1   \n",
       "1                                Coloring book moana  ART_AND_DESIGN     3.9   \n",
       "2  U Launcher Lite – FREE Live Cool Themes, Hide ...  ART_AND_DESIGN     4.7   \n",
       "3                              Sketch - Draw & Paint  ART_AND_DESIGN     4.5   \n",
       "4              Pixel Draw - Number Art Coloring Book  ART_AND_DESIGN     4.3   \n",
       "\n",
       "  Reviews  Size     Installs  Type Price Content Rating  \\\n",
       "0     159   19M      10,000+  Free     0       Everyone   \n",
       "1     967   14M     500,000+  Free     0       Everyone   \n",
       "2   87510  8.7M   5,000,000+  Free     0       Everyone   \n",
       "3  215644   25M  50,000,000+  Free     0           Teen   \n",
       "4     967  2.8M     100,000+  Free     0       Everyone   \n",
       "\n",
       "                      Genres      Last Updated         Current Ver  \\\n",
       "0               Art & Design   January 7, 2018               1.0.0   \n",
       "1  Art & Design;Pretend Play  January 15, 2018               2.0.0   \n",
       "2               Art & Design    August 1, 2018               1.2.4   \n",
       "3               Art & Design      June 8, 2018  Varies with device   \n",
       "4    Art & Design;Creativity     June 20, 2018                 1.1   \n",
       "\n",
       "    Android Ver  \n",
       "0  4.0.3 and up  \n",
       "1  4.0.3 and up  \n",
       "2  4.0.3 and up  \n",
       "3    4.2 and up  \n",
       "4    4.4 and up  "
      ]
     },
     "execution_count": 3,
     "metadata": {},
     "output_type": "execute_result"
    }
   ],
   "source": [
    "df.head()"
   ]
  },
  {
   "cell_type": "markdown",
   "id": "confident-engineer",
   "metadata": {
    "papermill": {
     "duration": 0.038867,
     "end_time": "2021-04-23T20:19:15.055123",
     "exception": false,
     "start_time": "2021-04-23T20:19:15.016256",
     "status": "completed"
    },
    "tags": []
   },
   "source": [
    "Veri çerçevesinin son 5 gözlemini görüntüleyelim."
   ]
  },
  {
   "cell_type": "code",
   "execution_count": 4,
   "id": "southern-hollow",
   "metadata": {
    "execution": {
     "iopub.execute_input": "2021-04-23T20:19:15.150077Z",
     "iopub.status.busy": "2021-04-23T20:19:15.149550Z",
     "iopub.status.idle": "2021-04-23T20:19:15.154315Z",
     "shell.execute_reply": "2021-04-23T20:19:15.153767Z"
    },
    "papermill": {
     "duration": 0.060357,
     "end_time": "2021-04-23T20:19:15.154436",
     "exception": false,
     "start_time": "2021-04-23T20:19:15.094079",
     "status": "completed"
    },
    "tags": []
   },
   "outputs": [
    {
     "data": {
      "text/html": [
       "<div>\n",
       "<style scoped>\n",
       "    .dataframe tbody tr th:only-of-type {\n",
       "        vertical-align: middle;\n",
       "    }\n",
       "\n",
       "    .dataframe tbody tr th {\n",
       "        vertical-align: top;\n",
       "    }\n",
       "\n",
       "    .dataframe thead th {\n",
       "        text-align: right;\n",
       "    }\n",
       "</style>\n",
       "<table border=\"1\" class=\"dataframe\">\n",
       "  <thead>\n",
       "    <tr style=\"text-align: right;\">\n",
       "      <th></th>\n",
       "      <th>App</th>\n",
       "      <th>Category</th>\n",
       "      <th>Rating</th>\n",
       "      <th>Reviews</th>\n",
       "      <th>Size</th>\n",
       "      <th>Installs</th>\n",
       "      <th>Type</th>\n",
       "      <th>Price</th>\n",
       "      <th>Content Rating</th>\n",
       "      <th>Genres</th>\n",
       "      <th>Last Updated</th>\n",
       "      <th>Current Ver</th>\n",
       "      <th>Android Ver</th>\n",
       "    </tr>\n",
       "  </thead>\n",
       "  <tbody>\n",
       "    <tr>\n",
       "      <th>10836</th>\n",
       "      <td>Sya9a Maroc - FR</td>\n",
       "      <td>FAMILY</td>\n",
       "      <td>4.5</td>\n",
       "      <td>38</td>\n",
       "      <td>53M</td>\n",
       "      <td>5,000+</td>\n",
       "      <td>Free</td>\n",
       "      <td>0</td>\n",
       "      <td>Everyone</td>\n",
       "      <td>Education</td>\n",
       "      <td>July 25, 2017</td>\n",
       "      <td>1.48</td>\n",
       "      <td>4.1 and up</td>\n",
       "    </tr>\n",
       "    <tr>\n",
       "      <th>10837</th>\n",
       "      <td>Fr. Mike Schmitz Audio Teachings</td>\n",
       "      <td>FAMILY</td>\n",
       "      <td>5.0</td>\n",
       "      <td>4</td>\n",
       "      <td>3.6M</td>\n",
       "      <td>100+</td>\n",
       "      <td>Free</td>\n",
       "      <td>0</td>\n",
       "      <td>Everyone</td>\n",
       "      <td>Education</td>\n",
       "      <td>July 6, 2018</td>\n",
       "      <td>1.0</td>\n",
       "      <td>4.1 and up</td>\n",
       "    </tr>\n",
       "    <tr>\n",
       "      <th>10838</th>\n",
       "      <td>Parkinson Exercices FR</td>\n",
       "      <td>MEDICAL</td>\n",
       "      <td>NaN</td>\n",
       "      <td>3</td>\n",
       "      <td>9.5M</td>\n",
       "      <td>1,000+</td>\n",
       "      <td>Free</td>\n",
       "      <td>0</td>\n",
       "      <td>Everyone</td>\n",
       "      <td>Medical</td>\n",
       "      <td>January 20, 2017</td>\n",
       "      <td>1.0</td>\n",
       "      <td>2.2 and up</td>\n",
       "    </tr>\n",
       "    <tr>\n",
       "      <th>10839</th>\n",
       "      <td>The SCP Foundation DB fr nn5n</td>\n",
       "      <td>BOOKS_AND_REFERENCE</td>\n",
       "      <td>4.5</td>\n",
       "      <td>114</td>\n",
       "      <td>Varies with device</td>\n",
       "      <td>1,000+</td>\n",
       "      <td>Free</td>\n",
       "      <td>0</td>\n",
       "      <td>Mature 17+</td>\n",
       "      <td>Books &amp; Reference</td>\n",
       "      <td>January 19, 2015</td>\n",
       "      <td>Varies with device</td>\n",
       "      <td>Varies with device</td>\n",
       "    </tr>\n",
       "    <tr>\n",
       "      <th>10840</th>\n",
       "      <td>iHoroscope - 2018 Daily Horoscope &amp; Astrology</td>\n",
       "      <td>LIFESTYLE</td>\n",
       "      <td>4.5</td>\n",
       "      <td>398307</td>\n",
       "      <td>19M</td>\n",
       "      <td>10,000,000+</td>\n",
       "      <td>Free</td>\n",
       "      <td>0</td>\n",
       "      <td>Everyone</td>\n",
       "      <td>Lifestyle</td>\n",
       "      <td>July 25, 2018</td>\n",
       "      <td>Varies with device</td>\n",
       "      <td>Varies with device</td>\n",
       "    </tr>\n",
       "  </tbody>\n",
       "</table>\n",
       "</div>"
      ],
      "text/plain": [
       "                                                 App             Category  \\\n",
       "10836                               Sya9a Maroc - FR               FAMILY   \n",
       "10837               Fr. Mike Schmitz Audio Teachings               FAMILY   \n",
       "10838                         Parkinson Exercices FR              MEDICAL   \n",
       "10839                  The SCP Foundation DB fr nn5n  BOOKS_AND_REFERENCE   \n",
       "10840  iHoroscope - 2018 Daily Horoscope & Astrology            LIFESTYLE   \n",
       "\n",
       "       Rating Reviews                Size     Installs  Type Price  \\\n",
       "10836     4.5      38                 53M       5,000+  Free     0   \n",
       "10837     5.0       4                3.6M         100+  Free     0   \n",
       "10838     NaN       3                9.5M       1,000+  Free     0   \n",
       "10839     4.5     114  Varies with device       1,000+  Free     0   \n",
       "10840     4.5  398307                 19M  10,000,000+  Free     0   \n",
       "\n",
       "      Content Rating             Genres      Last Updated         Current Ver  \\\n",
       "10836       Everyone          Education     July 25, 2017                1.48   \n",
       "10837       Everyone          Education      July 6, 2018                 1.0   \n",
       "10838       Everyone            Medical  January 20, 2017                 1.0   \n",
       "10839     Mature 17+  Books & Reference  January 19, 2015  Varies with device   \n",
       "10840       Everyone          Lifestyle     July 25, 2018  Varies with device   \n",
       "\n",
       "              Android Ver  \n",
       "10836          4.1 and up  \n",
       "10837          4.1 and up  \n",
       "10838          2.2 and up  \n",
       "10839  Varies with device  \n",
       "10840  Varies with device  "
      ]
     },
     "execution_count": 4,
     "metadata": {},
     "output_type": "execute_result"
    }
   ],
   "source": [
    "df.tail()"
   ]
  },
  {
   "cell_type": "markdown",
   "id": "helpful-popularity",
   "metadata": {
    "papermill": {
     "duration": 0.037405,
     "end_time": "2021-04-23T20:19:15.229903",
     "exception": false,
     "start_time": "2021-04-23T20:19:15.192498",
     "status": "completed"
    },
    "tags": []
   },
   "source": [
    "Veri çerçevesinin kaç öznitelik ve kaç gözlemden oluştuğunu görüntüleyelim."
   ]
  },
  {
   "cell_type": "code",
   "execution_count": 5,
   "id": "golden-tourist",
   "metadata": {
    "execution": {
     "iopub.execute_input": "2021-04-23T20:19:15.311123Z",
     "iopub.status.busy": "2021-04-23T20:19:15.310649Z",
     "iopub.status.idle": "2021-04-23T20:19:15.316059Z",
     "shell.execute_reply": "2021-04-23T20:19:15.316754Z"
    },
    "papermill": {
     "duration": 0.048406,
     "end_time": "2021-04-23T20:19:15.316961",
     "exception": false,
     "start_time": "2021-04-23T20:19:15.268555",
     "status": "completed"
    },
    "tags": []
   },
   "outputs": [
    {
     "name": "stdout",
     "output_type": "stream",
     "text": [
      "gozlem degeri : 10841  degisken :  13\n"
     ]
    }
   ],
   "source": [
    "df.shape\n",
    "print('gozlem degeri :',df.shape[0],' degisken : ',df.shape[1])"
   ]
  },
  {
   "cell_type": "markdown",
   "id": "laden-butler",
   "metadata": {
    "papermill": {
     "duration": 0.037764,
     "end_time": "2021-04-23T20:19:15.392925",
     "exception": false,
     "start_time": "2021-04-23T20:19:15.355161",
     "status": "completed"
    },
    "tags": []
   },
   "source": [
    "Veri çerçevesindeki değişkenlerin hangi tipte olduğunu ve bellek kullanımını görüntüleyelim."
   ]
  },
  {
   "cell_type": "code",
   "execution_count": 6,
   "id": "refined-thursday",
   "metadata": {
    "execution": {
     "iopub.execute_input": "2021-04-23T20:19:15.496411Z",
     "iopub.status.busy": "2021-04-23T20:19:15.495887Z",
     "iopub.status.idle": "2021-04-23T20:19:15.501514Z",
     "shell.execute_reply": "2021-04-23T20:19:15.501045Z"
    },
    "papermill": {
     "duration": 0.069554,
     "end_time": "2021-04-23T20:19:15.501640",
     "exception": false,
     "start_time": "2021-04-23T20:19:15.432086",
     "status": "completed"
    },
    "tags": []
   },
   "outputs": [
    {
     "name": "stdout",
     "output_type": "stream",
     "text": [
      "<class 'pandas.core.frame.DataFrame'>\n",
      "RangeIndex: 10841 entries, 0 to 10840\n",
      "Data columns (total 13 columns):\n",
      " #   Column          Non-Null Count  Dtype  \n",
      "---  ------          --------------  -----  \n",
      " 0   App             10841 non-null  object \n",
      " 1   Category        10841 non-null  object \n",
      " 2   Rating          9367 non-null   float64\n",
      " 3   Reviews         10841 non-null  object \n",
      " 4   Size            10841 non-null  object \n",
      " 5   Installs        10841 non-null  object \n",
      " 6   Type            10840 non-null  object \n",
      " 7   Price           10841 non-null  object \n",
      " 8   Content Rating  10840 non-null  object \n",
      " 9   Genres          10841 non-null  object \n",
      " 10  Last Updated    10841 non-null  object \n",
      " 11  Current Ver     10833 non-null  object \n",
      " 12  Android Ver     10838 non-null  object \n",
      "dtypes: float64(1), object(12)\n",
      "memory usage: 1.1+ MB\n"
     ]
    }
   ],
   "source": [
    "df.info()"
   ]
  },
  {
   "cell_type": "markdown",
   "id": "mediterranean-baker",
   "metadata": {
    "papermill": {
     "duration": 0.038391,
     "end_time": "2021-04-23T20:19:15.578712",
     "exception": false,
     "start_time": "2021-04-23T20:19:15.540321",
     "status": "completed"
    },
    "tags": []
   },
   "source": [
    "* İnfo () 'yu kullandıktan sonra, sayısal veri türüne sahip yalnızca bir değişken olduğunu gördük. Sayısal olması gereken bazı değişkenleri dönüştürmemiz gerekiyor.  Size, Installs, Price gibi bunların sayısal olmamalarının nedeni içinde '+', '$' olmasıdır. \n",
    "\n"
   ]
  },
  {
   "cell_type": "markdown",
   "id": "monetary-olive",
   "metadata": {
    "papermill": {
     "duration": 0.038224,
     "end_time": "2021-04-23T20:19:15.656369",
     "exception": false,
     "start_time": "2021-04-23T20:19:15.618145",
     "status": "completed"
    },
    "tags": []
   },
   "source": [
    "Veri çerçevesindeki sayısal değişken için temel istatistik değerlerini görüntüleyelim.\n",
    "\n",
    "Standart sapma ve ortalama değerden çıkarımda bulunarak değişkenin ne kadar varyansa sahip olduğu hakkında fikir yürütelim."
   ]
  },
  {
   "cell_type": "code",
   "execution_count": 7,
   "id": "dutch-credit",
   "metadata": {
    "execution": {
     "iopub.execute_input": "2021-04-23T20:19:15.745594Z",
     "iopub.status.busy": "2021-04-23T20:19:15.739952Z",
     "iopub.status.idle": "2021-04-23T20:19:15.763469Z",
     "shell.execute_reply": "2021-04-23T20:19:15.763859Z"
    },
    "papermill": {
     "duration": 0.068272,
     "end_time": "2021-04-23T20:19:15.764031",
     "exception": false,
     "start_time": "2021-04-23T20:19:15.695759",
     "status": "completed"
    },
    "tags": []
   },
   "outputs": [
    {
     "data": {
      "text/html": [
       "<div>\n",
       "<style scoped>\n",
       "    .dataframe tbody tr th:only-of-type {\n",
       "        vertical-align: middle;\n",
       "    }\n",
       "\n",
       "    .dataframe tbody tr th {\n",
       "        vertical-align: top;\n",
       "    }\n",
       "\n",
       "    .dataframe thead th {\n",
       "        text-align: right;\n",
       "    }\n",
       "</style>\n",
       "<table border=\"1\" class=\"dataframe\">\n",
       "  <thead>\n",
       "    <tr style=\"text-align: right;\">\n",
       "      <th></th>\n",
       "      <th>count</th>\n",
       "      <th>mean</th>\n",
       "      <th>std</th>\n",
       "      <th>min</th>\n",
       "      <th>25%</th>\n",
       "      <th>50%</th>\n",
       "      <th>75%</th>\n",
       "      <th>max</th>\n",
       "    </tr>\n",
       "  </thead>\n",
       "  <tbody>\n",
       "    <tr>\n",
       "      <th>Rating</th>\n",
       "      <td>9367.0</td>\n",
       "      <td>4.193338</td>\n",
       "      <td>0.537431</td>\n",
       "      <td>1.0</td>\n",
       "      <td>4.0</td>\n",
       "      <td>4.3</td>\n",
       "      <td>4.5</td>\n",
       "      <td>19.0</td>\n",
       "    </tr>\n",
       "  </tbody>\n",
       "</table>\n",
       "</div>"
      ],
      "text/plain": [
       "         count      mean       std  min  25%  50%  75%   max\n",
       "Rating  9367.0  4.193338  0.537431  1.0  4.0  4.3  4.5  19.0"
      ]
     },
     "execution_count": 7,
     "metadata": {},
     "output_type": "execute_result"
    }
   ],
   "source": [
    "df.describe().T"
   ]
  },
  {
   "cell_type": "markdown",
   "id": "foreign-maldives",
   "metadata": {
    "papermill": {
     "duration": 0.038843,
     "end_time": "2021-04-23T20:19:15.842306",
     "exception": false,
     "start_time": "2021-04-23T20:19:15.803463",
     "status": "completed"
    },
    "tags": []
   },
   "source": [
    "Veri çerçevesinde hangi öznitelikte kaç adet eksik değer olduğunu gözlemleyelim."
   ]
  },
  {
   "cell_type": "code",
   "execution_count": 8,
   "id": "federal-panama",
   "metadata": {
    "execution": {
     "iopub.execute_input": "2021-04-23T20:19:15.930201Z",
     "iopub.status.busy": "2021-04-23T20:19:15.929662Z",
     "iopub.status.idle": "2021-04-23T20:19:15.937346Z",
     "shell.execute_reply": "2021-04-23T20:19:15.936797Z"
    },
    "papermill": {
     "duration": 0.056561,
     "end_time": "2021-04-23T20:19:15.937473",
     "exception": false,
     "start_time": "2021-04-23T20:19:15.880912",
     "status": "completed"
    },
    "tags": []
   },
   "outputs": [
    {
     "data": {
      "text/plain": [
       "App                  0\n",
       "Category             0\n",
       "Rating            1474\n",
       "Reviews              0\n",
       "Size                 0\n",
       "Installs             0\n",
       "Type                 1\n",
       "Price                0\n",
       "Content Rating       1\n",
       "Genres               0\n",
       "Last Updated         0\n",
       "Current Ver          8\n",
       "Android Ver          3\n",
       "dtype: int64"
      ]
     },
     "execution_count": 8,
     "metadata": {},
     "output_type": "execute_result"
    }
   ],
   "source": [
    "df.isna().sum()\n",
    "#eksik deger olan 5 adet ozniteligimiz var."
   ]
  },
  {
   "cell_type": "markdown",
   "id": "olive-repair",
   "metadata": {
    "papermill": {
     "duration": 0.042092,
     "end_time": "2021-04-23T20:19:16.019524",
     "exception": false,
     "start_time": "2021-04-23T20:19:15.977432",
     "status": "completed"
    },
    "tags": []
   },
   "source": [
    "* Gördüğümüz gibi Rating  sütununda 1474 boş değer var.\n",
    "\n"
   ]
  },
  {
   "cell_type": "markdown",
   "id": "harmful-triangle",
   "metadata": {
    "papermill": {
     "duration": 0.039425,
     "end_time": "2021-04-23T20:19:16.099730",
     "exception": false,
     "start_time": "2021-04-23T20:19:16.060305",
     "status": "completed"
    },
    "tags": []
   },
   "source": [
    "Hedef değişkenimizdeki Null değerler yerine ortalama değerler yazdıralım.\n",
    "\n",
    "Bunun için daha önce görüntülemiş olduğumuz temel istatistik değerleri tekrar görüntüleyelim. Çoğunluğun sahip olduğu Rating değerini Null alanlara yazdıralım.\n",
    "\n",
    "Daha sonra Rating değerinde Null değer kalmış mı kontrol edelim."
   ]
  },
  {
   "cell_type": "code",
   "execution_count": 9,
   "id": "cordless-morris",
   "metadata": {
    "execution": {
     "iopub.execute_input": "2021-04-23T20:19:16.185712Z",
     "iopub.status.busy": "2021-04-23T20:19:16.184746Z",
     "iopub.status.idle": "2021-04-23T20:19:16.192333Z",
     "shell.execute_reply": "2021-04-23T20:19:16.191746Z"
    },
    "papermill": {
     "duration": 0.053649,
     "end_time": "2021-04-23T20:19:16.192497",
     "exception": false,
     "start_time": "2021-04-23T20:19:16.138848",
     "status": "completed"
    },
    "tags": []
   },
   "outputs": [],
   "source": [
    "df['Rating'] = df['Rating'].fillna(df.groupby('Category')['Rating'].transform('mean'))"
   ]
  },
  {
   "cell_type": "code",
   "execution_count": 10,
   "id": "after-baseline",
   "metadata": {
    "execution": {
     "iopub.execute_input": "2021-04-23T20:19:16.323072Z",
     "iopub.status.busy": "2021-04-23T20:19:16.321261Z",
     "iopub.status.idle": "2021-04-23T20:19:16.326578Z",
     "shell.execute_reply": "2021-04-23T20:19:16.326025Z"
    },
    "papermill": {
     "duration": 0.073766,
     "end_time": "2021-04-23T20:19:16.326688",
     "exception": false,
     "start_time": "2021-04-23T20:19:16.252922",
     "status": "completed"
    },
    "tags": []
   },
   "outputs": [
    {
     "data": {
      "text/plain": [
       "App               0\n",
       "Category          0\n",
       "Rating            0\n",
       "Reviews           0\n",
       "Size              0\n",
       "Installs          0\n",
       "Type              1\n",
       "Price             0\n",
       "Content Rating    1\n",
       "Genres            0\n",
       "Last Updated      0\n",
       "Current Ver       8\n",
       "Android Ver       3\n",
       "dtype: int64"
      ]
     },
     "execution_count": 10,
     "metadata": {},
     "output_type": "execute_result"
    }
   ],
   "source": [
    "df.isnull().sum()"
   ]
  },
  {
   "cell_type": "code",
   "execution_count": 11,
   "id": "headed-andorra",
   "metadata": {
    "execution": {
     "iopub.execute_input": "2021-04-23T20:19:16.428385Z",
     "iopub.status.busy": "2021-04-23T20:19:16.427797Z",
     "iopub.status.idle": "2021-04-23T20:19:16.457163Z",
     "shell.execute_reply": "2021-04-23T20:19:16.456715Z"
    },
    "papermill": {
     "duration": 0.09018,
     "end_time": "2021-04-23T20:19:16.457315",
     "exception": false,
     "start_time": "2021-04-23T20:19:16.367135",
     "status": "completed"
    },
    "tags": []
   },
   "outputs": [],
   "source": [
    "#boş değerlere sahip tüm satırları kaldırmak\n",
    "df.dropna(inplace=True) #eksik degerleri ucurma\n",
    "df.reset_index(drop=True, inplace=True) #DataFrame'deki dizini sıfırlama"
   ]
  },
  {
   "cell_type": "code",
   "execution_count": 12,
   "id": "hourly-edward",
   "metadata": {
    "execution": {
     "iopub.execute_input": "2021-04-23T20:19:16.550600Z",
     "iopub.status.busy": "2021-04-23T20:19:16.550056Z",
     "iopub.status.idle": "2021-04-23T20:19:16.554441Z",
     "shell.execute_reply": "2021-04-23T20:19:16.554012Z"
    },
    "papermill": {
     "duration": 0.056665,
     "end_time": "2021-04-23T20:19:16.554552",
     "exception": false,
     "start_time": "2021-04-23T20:19:16.497887",
     "status": "completed"
    },
    "tags": []
   },
   "outputs": [
    {
     "data": {
      "text/plain": [
       "App               0\n",
       "Category          0\n",
       "Rating            0\n",
       "Reviews           0\n",
       "Size              0\n",
       "Installs          0\n",
       "Type              0\n",
       "Price             0\n",
       "Content Rating    0\n",
       "Genres            0\n",
       "Last Updated      0\n",
       "Current Ver       0\n",
       "Android Ver       0\n",
       "dtype: int64"
      ]
     },
     "execution_count": 12,
     "metadata": {},
     "output_type": "execute_result"
    }
   ],
   "source": [
    "df.isnull().sum()"
   ]
  },
  {
   "cell_type": "markdown",
   "id": "novel-oxide",
   "metadata": {
    "papermill": {
     "duration": 0.039898,
     "end_time": "2021-04-23T20:19:16.634266",
     "exception": false,
     "start_time": "2021-04-23T20:19:16.594368",
     "status": "completed"
    },
    "tags": []
   },
   "source": [
    "Şu anda boş ve değerli olan herhangi bir satırımız olmadından sütunların veri türünü değiştirebiliriz, böylece onlardan gerekli analizleri yapabiliriz."
   ]
  },
  {
   "cell_type": "code",
   "execution_count": 13,
   "id": "distributed-worst",
   "metadata": {
    "execution": {
     "iopub.execute_input": "2021-04-23T20:19:16.725011Z",
     "iopub.status.busy": "2021-04-23T20:19:16.719489Z",
     "iopub.status.idle": "2021-04-23T20:19:16.738075Z",
     "shell.execute_reply": "2021-04-23T20:19:16.737691Z"
    },
    "papermill": {
     "duration": 0.064056,
     "end_time": "2021-04-23T20:19:16.738213",
     "exception": false,
     "start_time": "2021-04-23T20:19:16.674157",
     "status": "completed"
    },
    "tags": []
   },
   "outputs": [
    {
     "name": "stdout",
     "output_type": "stream",
     "text": [
      "<class 'pandas.core.frame.DataFrame'>\n",
      "RangeIndex: 10829 entries, 0 to 10828\n",
      "Data columns (total 13 columns):\n",
      " #   Column          Non-Null Count  Dtype  \n",
      "---  ------          --------------  -----  \n",
      " 0   App             10829 non-null  object \n",
      " 1   Category        10829 non-null  object \n",
      " 2   Rating          10829 non-null  float64\n",
      " 3   Reviews         10829 non-null  object \n",
      " 4   Size            10829 non-null  object \n",
      " 5   Installs        10829 non-null  object \n",
      " 6   Type            10829 non-null  object \n",
      " 7   Price           10829 non-null  object \n",
      " 8   Content Rating  10829 non-null  object \n",
      " 9   Genres          10829 non-null  object \n",
      " 10  Last Updated    10829 non-null  object \n",
      " 11  Current Ver     10829 non-null  object \n",
      " 12  Android Ver     10829 non-null  object \n",
      "dtypes: float64(1), object(12)\n",
      "memory usage: 1.1+ MB\n"
     ]
    }
   ],
   "source": [
    "df.info()"
   ]
  },
  {
   "cell_type": "code",
   "execution_count": 14,
   "id": "native-texas",
   "metadata": {
    "execution": {
     "iopub.execute_input": "2021-04-23T20:19:16.827809Z",
     "iopub.status.busy": "2021-04-23T20:19:16.827316Z",
     "iopub.status.idle": "2021-04-23T20:19:16.831101Z",
     "shell.execute_reply": "2021-04-23T20:19:16.830662Z"
    },
    "papermill": {
     "duration": 0.052911,
     "end_time": "2021-04-23T20:19:16.831252",
     "exception": false,
     "start_time": "2021-04-23T20:19:16.778341",
     "status": "completed"
    },
    "tags": []
   },
   "outputs": [],
   "source": [
    "df['Reviews'] = df['Reviews'].astype('int')"
   ]
  },
  {
   "cell_type": "code",
   "execution_count": 15,
   "id": "popular-clock",
   "metadata": {
    "execution": {
     "iopub.execute_input": "2021-04-23T20:19:16.921820Z",
     "iopub.status.busy": "2021-04-23T20:19:16.921317Z",
     "iopub.status.idle": "2021-04-23T20:19:16.929528Z",
     "shell.execute_reply": "2021-04-23T20:19:16.929901Z"
    },
    "papermill": {
     "duration": 0.055678,
     "end_time": "2021-04-23T20:19:16.930049",
     "exception": false,
     "start_time": "2021-04-23T20:19:16.874371",
     "status": "completed"
    },
    "tags": []
   },
   "outputs": [
    {
     "data": {
      "text/plain": [
       "array(['19M', '14M', '8.7M', '25M', '2.8M', '5.6M', '29M', '33M', '3.1M',\n",
       "       '28M', '12M', '20M', '21M', '37M', '5.5M', '17M', '39M', '31M',\n",
       "       '4.2M', '7.0M', '23M', '6.0M', '6.1M', '4.6M', '9.2M', '5.2M',\n",
       "       '11M', '24M', 'Varies with device', '9.4M', '15M', '10M', '1.2M',\n",
       "       '26M', '8.0M', '7.9M', '56M', '57M', '35M', '54M', '201k', '3.6M',\n",
       "       '5.7M', '8.6M', '2.4M', '27M', '2.7M', '2.5M', '16M', '3.4M',\n",
       "       '8.9M', '3.9M', '2.9M', '38M', '32M', '5.4M', '18M', '1.1M',\n",
       "       '2.2M', '4.5M', '9.8M', '52M', '9.0M', '6.7M', '30M', '2.6M',\n",
       "       '7.1M', '3.7M', '22M', '7.4M', '6.4M', '3.2M', '8.2M', '9.9M',\n",
       "       '4.9M', '9.5M', '5.0M', '5.9M', '13M', '73M', '6.8M', '3.5M',\n",
       "       '4.0M', '2.3M', '7.2M', '2.1M', '42M', '7.3M', '9.1M', '55M',\n",
       "       '23k', '6.5M', '1.5M', '7.5M', '51M', '41M', '48M', '8.5M', '46M',\n",
       "       '8.3M', '4.3M', '4.7M', '3.3M', '40M', '7.8M', '8.8M', '6.6M',\n",
       "       '5.1M', '61M', '66M', '79k', '8.4M', '118k', '44M', '695k', '1.6M',\n",
       "       '6.2M', '18k', '53M', '1.4M', '3.0M', '5.8M', '3.8M', '9.6M',\n",
       "       '45M', '63M', '49M', '77M', '4.4M', '4.8M', '70M', '6.9M', '9.3M',\n",
       "       '10.0M', '8.1M', '36M', '84M', '97M', '2.0M', '1.9M', '1.8M',\n",
       "       '5.3M', '47M', '556k', '526k', '76M', '7.6M', '59M', '9.7M', '78M',\n",
       "       '72M', '43M', '7.7M', '6.3M', '334k', '34M', '93M', '65M', '79M',\n",
       "       '100M', '58M', '50M', '68M', '64M', '67M', '60M', '94M', '232k',\n",
       "       '99M', '624k', '95M', '8.5k', '41k', '292k', '80M', '1.7M', '74M',\n",
       "       '62M', '69M', '75M', '98M', '85M', '82M', '96M', '87M', '71M',\n",
       "       '86M', '91M', '81M', '92M', '83M', '88M', '704k', '862k', '899k',\n",
       "       '378k', '266k', '375k', '1.3M', '975k', '980k', '4.1M', '89M',\n",
       "       '696k', '544k', '525k', '920k', '779k', '853k', '720k', '713k',\n",
       "       '772k', '318k', '58k', '241k', '196k', '857k', '51k', '953k',\n",
       "       '865k', '251k', '930k', '540k', '313k', '746k', '203k', '26k',\n",
       "       '314k', '239k', '371k', '220k', '730k', '756k', '91k', '293k',\n",
       "       '17k', '74k', '14k', '317k', '78k', '924k', '902k', '818k', '81k',\n",
       "       '939k', '169k', '45k', '475k', '965k', '90M', '545k', '61k',\n",
       "       '283k', '655k', '714k', '93k', '872k', '121k', '322k', '1.0M',\n",
       "       '976k', '172k', '238k', '549k', '206k', '954k', '444k', '717k',\n",
       "       '210k', '609k', '308k', '705k', '306k', '904k', '473k', '175k',\n",
       "       '350k', '383k', '454k', '421k', '70k', '812k', '442k', '842k',\n",
       "       '417k', '412k', '459k', '478k', '335k', '782k', '721k', '430k',\n",
       "       '429k', '192k', '200k', '460k', '728k', '496k', '816k', '414k',\n",
       "       '506k', '887k', '613k', '243k', '569k', '778k', '683k', '592k',\n",
       "       '319k', '186k', '840k', '647k', '191k', '373k', '437k', '598k',\n",
       "       '716k', '585k', '982k', '219k', '55k', '948k', '323k', '691k',\n",
       "       '511k', '951k', '963k', '25k', '554k', '351k', '27k', '82k',\n",
       "       '208k', '913k', '514k', '551k', '29k', '103k', '898k', '743k',\n",
       "       '116k', '153k', '209k', '353k', '499k', '173k', '597k', '809k',\n",
       "       '122k', '411k', '400k', '801k', '787k', '50k', '643k', '986k',\n",
       "       '97k', '516k', '837k', '780k', '961k', '269k', '20k', '498k',\n",
       "       '600k', '749k', '642k', '881k', '72k', '656k', '601k', '221k',\n",
       "       '228k', '108k', '940k', '176k', '33k', '663k', '34k', '942k',\n",
       "       '259k', '164k', '458k', '245k', '629k', '28k', '288k', '775k',\n",
       "       '785k', '636k', '916k', '994k', '309k', '485k', '914k', '903k',\n",
       "       '608k', '500k', '54k', '562k', '847k', '957k', '688k', '811k',\n",
       "       '270k', '48k', '329k', '523k', '921k', '874k', '981k', '784k',\n",
       "       '280k', '24k', '518k', '754k', '892k', '154k', '860k', '364k',\n",
       "       '387k', '626k', '161k', '879k', '39k', '970k', '170k', '141k',\n",
       "       '160k', '144k', '143k', '190k', '376k', '193k', '246k', '73k',\n",
       "       '992k', '253k', '420k', '404k', '470k', '226k', '240k', '89k',\n",
       "       '234k', '257k', '861k', '467k', '157k', '44k', '676k', '67k',\n",
       "       '552k', '885k', '1020k', '582k', '619k'], dtype=object)"
      ]
     },
     "execution_count": 15,
     "metadata": {},
     "output_type": "execute_result"
    }
   ],
   "source": [
    "df['Size'].unique()"
   ]
  },
  {
   "cell_type": "code",
   "execution_count": 16,
   "id": "inner-powell",
   "metadata": {
    "execution": {
     "iopub.execute_input": "2021-04-23T20:19:17.020012Z",
     "iopub.status.busy": "2021-04-23T20:19:17.019499Z",
     "iopub.status.idle": "2021-04-23T20:19:17.021160Z",
     "shell.execute_reply": "2021-04-23T20:19:17.020689Z"
    },
    "papermill": {
     "duration": 0.050224,
     "end_time": "2021-04-23T20:19:17.021296",
     "exception": false,
     "start_time": "2021-04-23T20:19:16.971072",
     "status": "completed"
    },
    "tags": []
   },
   "outputs": [],
   "source": [
    "df['Size'].replace('Varies with device', 1, inplace=True)"
   ]
  },
  {
   "cell_type": "code",
   "execution_count": 17,
   "id": "homeless-trademark",
   "metadata": {
    "execution": {
     "iopub.execute_input": "2021-04-23T20:19:17.116163Z",
     "iopub.status.busy": "2021-04-23T20:19:17.115678Z",
     "iopub.status.idle": "2021-04-23T20:19:17.171661Z",
     "shell.execute_reply": "2021-04-23T20:19:17.172022Z"
    },
    "papermill": {
     "duration": 0.109445,
     "end_time": "2021-04-23T20:19:17.172172",
     "exception": false,
     "start_time": "2021-04-23T20:19:17.062727",
     "status": "completed"
    },
    "tags": []
   },
   "outputs": [],
   "source": [
    "df['Size']=df['Size'].replace(r'[kM]$', '', regex=True).astype(float)*df['Size'].str.extract(pat=r'([kM]$)', expand=False).fillna(1).replace(['k','M'], [10**3, 10**6]).astype(int)"
   ]
  },
  {
   "cell_type": "code",
   "execution_count": 18,
   "id": "suited-assist",
   "metadata": {
    "execution": {
     "iopub.execute_input": "2021-04-23T20:19:17.261422Z",
     "iopub.status.busy": "2021-04-23T20:19:17.258400Z",
     "iopub.status.idle": "2021-04-23T20:19:17.269866Z",
     "shell.execute_reply": "2021-04-23T20:19:17.269354Z"
    },
    "papermill": {
     "duration": 0.056568,
     "end_time": "2021-04-23T20:19:17.269987",
     "exception": false,
     "start_time": "2021-04-23T20:19:17.213419",
     "status": "completed"
    },
    "tags": []
   },
   "outputs": [],
   "source": [
    "df['Size'].replace(1, np.nan, inplace=True)\n",
    "df['Size'] = df['Size'].fillna(df.groupby('Category')['Size'].transform('mean'))"
   ]
  },
  {
   "cell_type": "code",
   "execution_count": 19,
   "id": "acoustic-compiler",
   "metadata": {
    "execution": {
     "iopub.execute_input": "2021-04-23T20:19:17.365354Z",
     "iopub.status.busy": "2021-04-23T20:19:17.364661Z",
     "iopub.status.idle": "2021-04-23T20:19:17.387810Z",
     "shell.execute_reply": "2021-04-23T20:19:17.387355Z"
    },
    "papermill": {
     "duration": 0.075246,
     "end_time": "2021-04-23T20:19:17.387932",
     "exception": false,
     "start_time": "2021-04-23T20:19:17.312686",
     "status": "completed"
    },
    "tags": []
   },
   "outputs": [],
   "source": [
    "df['Installs'] = df['Installs'].replace(r'[\\,\\+]', '', regex=True).astype(int)"
   ]
  },
  {
   "cell_type": "code",
   "execution_count": 20,
   "id": "mysterious-acting",
   "metadata": {
    "execution": {
     "iopub.execute_input": "2021-04-23T20:19:17.475339Z",
     "iopub.status.busy": "2021-04-23T20:19:17.474789Z",
     "iopub.status.idle": "2021-04-23T20:19:17.483131Z",
     "shell.execute_reply": "2021-04-23T20:19:17.482680Z"
    },
    "papermill": {
     "duration": 0.053935,
     "end_time": "2021-04-23T20:19:17.483273",
     "exception": false,
     "start_time": "2021-04-23T20:19:17.429338",
     "status": "completed"
    },
    "tags": []
   },
   "outputs": [
    {
     "data": {
      "text/plain": [
       "array(['0', '$4.99', '$3.99', '$6.99', '$1.49', '$2.99', '$7.99', '$5.99',\n",
       "       '$3.49', '$1.99', '$9.99', '$7.49', '$0.99', '$9.00', '$5.49',\n",
       "       '$10.00', '$24.99', '$11.99', '$79.99', '$16.99', '$14.99',\n",
       "       '$1.00', '$29.99', '$12.99', '$2.49', '$10.99', '$1.50', '$19.99',\n",
       "       '$15.99', '$33.99', '$74.99', '$39.99', '$3.95', '$4.49', '$1.70',\n",
       "       '$8.99', '$2.00', '$3.88', '$25.99', '$399.99', '$17.99',\n",
       "       '$400.00', '$3.02', '$1.76', '$4.84', '$4.77', '$1.61', '$2.50',\n",
       "       '$1.59', '$6.49', '$1.29', '$5.00', '$13.99', '$299.99', '$379.99',\n",
       "       '$37.99', '$18.99', '$389.99', '$19.90', '$8.49', '$1.75',\n",
       "       '$14.00', '$4.85', '$46.99', '$109.99', '$154.99', '$3.08',\n",
       "       '$2.59', '$4.80', '$1.96', '$19.40', '$3.90', '$4.59', '$15.46',\n",
       "       '$3.04', '$4.29', '$2.60', '$3.28', '$4.60', '$28.99', '$2.95',\n",
       "       '$2.90', '$1.97', '$200.00', '$89.99', '$2.56', '$30.99', '$3.61',\n",
       "       '$394.99', '$1.26', '$1.20', '$1.04'], dtype=object)"
      ]
     },
     "execution_count": 20,
     "metadata": {},
     "output_type": "execute_result"
    }
   ],
   "source": [
    "#'Price' sütun veri türünü float olarak değiştirme\n",
    "# Önce içerdiği tüm benzersiz değerleri kontrol edelim\n",
    "df['Price'].unique()"
   ]
  },
  {
   "cell_type": "code",
   "execution_count": 21,
   "id": "gorgeous-pound",
   "metadata": {
    "execution": {
     "iopub.execute_input": "2021-04-23T20:19:17.582620Z",
     "iopub.status.busy": "2021-04-23T20:19:17.577486Z",
     "iopub.status.idle": "2021-04-23T20:19:17.606007Z",
     "shell.execute_reply": "2021-04-23T20:19:17.605167Z"
    },
    "papermill": {
     "duration": 0.081038,
     "end_time": "2021-04-23T20:19:17.606163",
     "exception": false,
     "start_time": "2021-04-23T20:19:17.525125",
     "status": "completed"
    },
    "tags": []
   },
   "outputs": [],
   "source": [
    "#'$' yerine '' daha sonra float'a dönüştürelim\n",
    "df['Price'] = df['Price'].replace(r'^\\$', '', regex=True).astype(float)"
   ]
  },
  {
   "cell_type": "code",
   "execution_count": 22,
   "id": "intensive-february",
   "metadata": {
    "execution": {
     "iopub.execute_input": "2021-04-23T20:19:17.741368Z",
     "iopub.status.busy": "2021-04-23T20:19:17.740582Z",
     "iopub.status.idle": "2021-04-23T20:19:17.884839Z",
     "shell.execute_reply": "2021-04-23T20:19:17.884251Z"
    },
    "papermill": {
     "duration": 0.213816,
     "end_time": "2021-04-23T20:19:17.884960",
     "exception": false,
     "start_time": "2021-04-23T20:19:17.671144",
     "status": "completed"
    },
    "tags": []
   },
   "outputs": [],
   "source": [
    "#'Last Updating' sütununu tarih saatine dönüştürme\n",
    "df['Last Updated'] = pd.to_datetime(df['Last Updated'])"
   ]
  },
  {
   "cell_type": "code",
   "execution_count": 23,
   "id": "foreign-moscow",
   "metadata": {
    "execution": {
     "iopub.execute_input": "2021-04-23T20:19:17.985293Z",
     "iopub.status.busy": "2021-04-23T20:19:17.984496Z",
     "iopub.status.idle": "2021-04-23T20:19:18.002638Z",
     "shell.execute_reply": "2021-04-23T20:19:18.002074Z"
    },
    "papermill": {
     "duration": 0.075254,
     "end_time": "2021-04-23T20:19:18.002769",
     "exception": false,
     "start_time": "2021-04-23T20:19:17.927515",
     "status": "completed"
    },
    "tags": []
   },
   "outputs": [
    {
     "name": "stdout",
     "output_type": "stream",
     "text": [
      "<class 'pandas.core.frame.DataFrame'>\n",
      "RangeIndex: 10829 entries, 0 to 10828\n",
      "Data columns (total 13 columns):\n",
      " #   Column          Non-Null Count  Dtype         \n",
      "---  ------          --------------  -----         \n",
      " 0   App             10829 non-null  object        \n",
      " 1   Category        10829 non-null  object        \n",
      " 2   Rating          10829 non-null  float64       \n",
      " 3   Reviews         10829 non-null  int64         \n",
      " 4   Size            10829 non-null  float64       \n",
      " 5   Installs        10829 non-null  int64         \n",
      " 6   Type            10829 non-null  object        \n",
      " 7   Price           10829 non-null  float64       \n",
      " 8   Content Rating  10829 non-null  object        \n",
      " 9   Genres          10829 non-null  object        \n",
      " 10  Last Updated    10829 non-null  datetime64[ns]\n",
      " 11  Current Ver     10829 non-null  object        \n",
      " 12  Android Ver     10829 non-null  object        \n",
      "dtypes: datetime64[ns](1), float64(3), int64(2), object(7)\n",
      "memory usage: 1.1+ MB\n"
     ]
    }
   ],
   "source": [
    "df.info()"
   ]
  },
  {
   "cell_type": "markdown",
   "id": "internal-combine",
   "metadata": {
    "papermill": {
     "duration": 0.042745,
     "end_time": "2021-04-23T20:19:18.089426",
     "exception": false,
     "start_time": "2021-04-23T20:19:18.046681",
     "status": "completed"
    },
    "tags": []
   },
   "source": [
    "Veri çerçevemizin ne kadar dengeli dağıldığını sorgulayalım."
   ]
  },
  {
   "cell_type": "code",
   "execution_count": 24,
   "id": "together-testimony",
   "metadata": {
    "execution": {
     "iopub.execute_input": "2021-04-23T20:19:18.178775Z",
     "iopub.status.busy": "2021-04-23T20:19:18.178325Z",
     "iopub.status.idle": "2021-04-23T20:19:18.237997Z",
     "shell.execute_reply": "2021-04-23T20:19:18.237473Z"
    },
    "papermill": {
     "duration": 0.105389,
     "end_time": "2021-04-23T20:19:18.238124",
     "exception": false,
     "start_time": "2021-04-23T20:19:18.132735",
     "status": "completed"
    },
    "tags": []
   },
   "outputs": [
    {
     "data": {
      "text/plain": [
       "App                                                 Category          Rating  Reviews  Size          Installs   Type  Price  Content Rating  Genres                       Last Updated  Current Ver         Android Ver       \n",
       "Nick                                                ENTERTAINMENT     4.2     123279   2.500000e+07  10000000   Free  0.0    Everyone 10+    Entertainment;Music & Video  2018-01-24    2.0.8               4.4 and up            4\n",
       "eBay: Buy & Sell this Summer - Discover Deals Now!  SHOPPING          4.4     2788923  1.617543e+07  100000000  Free  0.0    Teen            Shopping                     2018-07-30    Varies with device  Varies with device    4\n",
       "Skyscanner                                          TRAVEL_AND_LOCAL  4.5     481546   2.900000e+07  10000000   Free  0.0    Everyone        Travel & Local               2018-08-06    5.48                4.4 and up            4\n",
       "WatchESPN                                           SPORTS            4.1     288809   6.600000e+06  10000000   Free  0.0    Everyone        Sports                       2017-09-27    2.5.1               4.4 and up            4\n",
       "CBS Sports App - Scores, News, Stats & Watch Live   SPORTS            4.3     91031    2.433901e+07  5000000    Free  0.0    Everyone        Sports                       2018-08-04    Varies with device  5.0 and up            4\n",
       "                                                                                                                                                                                                                                 ..\n",
       "Doctor Kids                                         FAMILY            4.2     200450   2.500000e+07  10000000   Free  0.0    Everyone        Casual;Pretend Play          2018-07-26    1.39                4.1 and up            1\n",
       "Doctor On Demand                                    MEDICAL           4.7     18674    1.962904e+07  1000000    Free  0.0    Everyone        Medical                      2018-07-27    3.25.0              4.4 and up            1\n",
       "Doctor Pets                                         FAMILY            4.2     23060    2.100000e+07  1000000    Free  0.0    Everyone        Educational;Education        2018-07-26    1.19                4.1 and up            1\n",
       "Doctor X - ER On Wheels                             FAMILY            3.6     12781    5.100000e+07  1000000    Free  0.0    Everyone        Casual;Pretend Play          2018-06-06    1.0.9               4.1 and up            1\n",
       "🔥 Football Wallpapers 4K | Full HD Backgrounds 😍    ENTERTAINMENT     4.7     11661    4.000000e+06  1000000    Free  0.0    Everyone        Entertainment                2018-07-14    1.1.3.2             4.0.3 and up          1\n",
       "Length: 10346, dtype: int64"
      ]
     },
     "execution_count": 24,
     "metadata": {},
     "output_type": "execute_result"
    }
   ],
   "source": [
    "df.value_counts()"
   ]
  },
  {
   "cell_type": "markdown",
   "id": "square-gothic",
   "metadata": {
    "papermill": {
     "duration": 0.043077,
     "end_time": "2021-04-23T20:19:18.324902",
     "exception": false,
     "start_time": "2021-04-23T20:19:18.281825",
     "status": "completed"
    },
    "tags": []
   },
   "source": [
    "Keman grafiği çizdirerek Rating değişkeninin dağılımını inceleyelim.\n",
    "\n",
    "Söz konusu dağılım bizim için ne ifade ediyor, normal bir dağılım olduğunu söyleyebilir miyiz?"
   ]
  },
  {
   "cell_type": "code",
   "execution_count": 25,
   "id": "assured-significance",
   "metadata": {
    "execution": {
     "iopub.execute_input": "2021-04-23T20:19:18.420776Z",
     "iopub.status.busy": "2021-04-23T20:19:18.420047Z",
     "iopub.status.idle": "2021-04-23T20:19:18.630126Z",
     "shell.execute_reply": "2021-04-23T20:19:18.629684Z"
    },
    "papermill": {
     "duration": 0.261901,
     "end_time": "2021-04-23T20:19:18.630284",
     "exception": false,
     "start_time": "2021-04-23T20:19:18.368383",
     "status": "completed"
    },
    "tags": []
   },
   "outputs": [
    {
     "data": {
      "image/png": "[encoded data removed]",
      "text/plain": [
       "<Figure size 432x288 with 1 Axes>"
      ]
     },
     "metadata": {
      "needs_background": "light"
     },
     "output_type": "display_data"
    }
   ],
   "source": [
    "sns.violinplot(y = \"Rating\", data = df, color = \"purple\");\n",
    "# normal bir dağılım soz konusu degildir, veriler normal dagilmamislardir."
   ]
  },
  {
   "cell_type": "markdown",
   "id": "loose-arrow",
   "metadata": {
    "papermill": {
     "duration": 0.04341,
     "end_time": "2021-04-23T20:19:18.719466",
     "exception": false,
     "start_time": "2021-04-23T20:19:18.676056",
     "status": "completed"
    },
    "tags": []
   },
   "source": [
    "Daha iyi anlayabilmek için Rating üzerine bir distplot çizdirelim."
   ]
  },
  {
   "cell_type": "code",
   "execution_count": 26,
   "id": "living-documentary",
   "metadata": {
    "execution": {
     "iopub.execute_input": "2021-04-23T20:19:18.821165Z",
     "iopub.status.busy": "2021-04-23T20:19:18.820255Z",
     "iopub.status.idle": "2021-04-23T20:19:19.066446Z",
     "shell.execute_reply": "2021-04-23T20:19:19.065949Z"
    },
    "papermill": {
     "duration": 0.300849,
     "end_time": "2021-04-23T20:19:19.066586",
     "exception": false,
     "start_time": "2021-04-23T20:19:18.765737",
     "status": "completed"
    },
    "tags": []
   },
   "outputs": [
    {
     "data": {
      "image/png": "[encoded data removed]",
      "text/plain": [
       "<Figure size 432x288 with 1 Axes>"
      ]
     },
     "metadata": {
      "needs_background": "light"
     },
     "output_type": "display_data"
    }
   ],
   "source": [
    "sns.distplot(df[\"Rating\"], bins = 16, color = \"purple\");"
   ]
  },
  {
   "cell_type": "markdown",
   "id": "hired-paraguay",
   "metadata": {
    "papermill": {
     "duration": 0.044501,
     "end_time": "2021-04-23T20:19:19.156855",
     "exception": false,
     "start_time": "2021-04-23T20:19:19.112354",
     "status": "completed"
    },
    "tags": []
   },
   "source": [
    "Category özniteliğine göre bir gruplama işlemi yapalım ve görselleştirelim."
   ]
  },
  {
   "cell_type": "code",
   "execution_count": 27,
   "id": "signal-locator",
   "metadata": {
    "execution": {
     "iopub.execute_input": "2021-04-23T20:19:19.253004Z",
     "iopub.status.busy": "2021-04-23T20:19:19.252513Z",
     "iopub.status.idle": "2021-04-23T20:19:19.676737Z",
     "shell.execute_reply": "2021-04-23T20:19:19.676073Z"
    },
    "papermill": {
     "duration": 0.475101,
     "end_time": "2021-04-23T20:19:19.676882",
     "exception": false,
     "start_time": "2021-04-23T20:19:19.201781",
     "status": "completed"
    },
    "tags": []
   },
   "outputs": [
    {
     "data": {
      "text/plain": [
       "<AxesSubplot:>"
      ]
     },
     "execution_count": 27,
     "metadata": {},
     "output_type": "execute_result"
    },
    {
     "data": {
      "image/png": "[encoded data removed]",
      "text/plain": [
       "<Figure size 432x288 with 1 Axes>"
      ]
     },
     "metadata": {
      "needs_background": "light"
     },
     "output_type": "display_data"
    }
   ],
   "source": [
    "df[\"Category\"].value_counts().plot(kind = \"bar\", color=\"purple\")"
   ]
  },
  {
   "cell_type": "markdown",
   "id": "sufficient-swift",
   "metadata": {
    "papermill": {
     "duration": 0.069745,
     "end_time": "2021-04-23T20:19:19.817291",
     "exception": false,
     "start_time": "2021-04-23T20:19:19.747546",
     "status": "completed"
    },
    "tags": []
   },
   "source": [
    "Her Kategorideki ortalama Rating oranlarını hesaplayalım ve görselleştirelim"
   ]
  },
  {
   "cell_type": "code",
   "execution_count": 28,
   "id": "departmental-imaging",
   "metadata": {
    "execution": {
     "iopub.execute_input": "2021-04-23T20:19:19.962375Z",
     "iopub.status.busy": "2021-04-23T20:19:19.961508Z",
     "iopub.status.idle": "2021-04-23T20:19:19.972430Z",
     "shell.execute_reply": "2021-04-23T20:19:19.971923Z"
    },
    "papermill": {
     "duration": 0.085925,
     "end_time": "2021-04-23T20:19:19.972553",
     "exception": false,
     "start_time": "2021-04-23T20:19:19.886628",
     "status": "completed"
    },
    "tags": []
   },
   "outputs": [
    {
     "data": {
      "text/plain": [
       "Category\n",
       "ART_AND_DESIGN         4.376159\n",
       "AUTO_AND_VEHICLES      4.190411\n",
       "BEAUTY                 4.278571\n",
       "BOOKS_AND_REFERENCE    4.346067\n",
       "BUSINESS               4.121452\n",
       "COMICS                 4.155172\n",
       "COMMUNICATION          4.158537\n",
       "DATING                 3.970769\n",
       "EDUCATION              4.389032\n",
       "ENTERTAINMENT          4.126174\n",
       "EVENTS                 4.435556\n",
       "FAMILY                 4.192370\n",
       "FINANCE                4.131889\n",
       "FOOD_AND_DRINK         4.166972\n",
       "GAME                   4.286326\n",
       "HEALTH_AND_FITNESS     4.277104\n",
       "HOUSE_AND_HOME         4.197368\n",
       "LIBRARIES_AND_DEMO     4.179396\n",
       "LIFESTYLE              4.094904\n",
       "MAPS_AND_NAVIGATION    4.051613\n",
       "MEDICAL                4.189143\n",
       "NEWS_AND_MAGAZINES     4.132189\n",
       "PARENTING              4.300000\n",
       "PERSONALIZATION        4.335403\n",
       "PHOTOGRAPHY            4.192114\n",
       "PRODUCTIVITY           4.211396\n",
       "SHOPPING               4.259664\n",
       "SOCIAL                 4.255598\n",
       "SPORTS                 4.223511\n",
       "TOOLS                  4.047230\n",
       "TRAVEL_AND_LOCAL       4.109292\n",
       "VIDEO_PLAYERS          4.063750\n",
       "WEATHER                4.244000\n",
       "Name: Rating, dtype: float64"
      ]
     },
     "execution_count": 28,
     "metadata": {},
     "output_type": "execute_result"
    }
   ],
   "source": [
    "df.groupby([\"Category\"])[\"Rating\"].mean()"
   ]
  },
  {
   "cell_type": "code",
   "execution_count": 29,
   "id": "moral-decline",
   "metadata": {
    "execution": {
     "iopub.execute_input": "2021-04-23T20:19:20.098524Z",
     "iopub.status.busy": "2021-04-23T20:19:20.073309Z",
     "iopub.status.idle": "2021-04-23T20:19:20.369120Z",
     "shell.execute_reply": "2021-04-23T20:19:20.368602Z"
    },
    "papermill": {
     "duration": 0.350478,
     "end_time": "2021-04-23T20:19:20.369268",
     "exception": false,
     "start_time": "2021-04-23T20:19:20.018790",
     "status": "completed"
    },
    "tags": []
   },
   "outputs": [
    {
     "data": {
      "image/png": "[encoded data removed]",
      "text/plain": [
       "<Figure size 720x576 with 1 Axes>"
      ]
     },
     "metadata": {
      "needs_background": "light"
     },
     "output_type": "display_data"
    }
   ],
   "source": [
    "df.groupby([\"Category\"])[\"Rating\"].mean().sort_values().plot(kind = \"bar\", color=\"purple\" , figsize = (10,8));\n",
    "plt.title(\"Her Kategorideki Ortalama Rating \");"
   ]
  },
  {
   "cell_type": "markdown",
   "id": "historic-month",
   "metadata": {
    "papermill": {
     "duration": 0.047578,
     "end_time": "2021-04-23T20:19:20.465139",
     "exception": false,
     "start_time": "2021-04-23T20:19:20.417561",
     "status": "completed"
    },
    "tags": []
   },
   "source": [
    "Her kategorinin yüklenme oranlarını hesaplayalım. En çok yüklenen ilk 15 kategoriyi görselleştirerek gösterelim."
   ]
  },
  {
   "cell_type": "code",
   "execution_count": 30,
   "id": "subsequent-berlin",
   "metadata": {
    "execution": {
     "iopub.execute_input": "2021-04-23T20:19:20.570805Z",
     "iopub.status.busy": "2021-04-23T20:19:20.570276Z",
     "iopub.status.idle": "2021-04-23T20:19:20.574963Z",
     "shell.execute_reply": "2021-04-23T20:19:20.574532Z"
    },
    "papermill": {
     "duration": 0.060836,
     "end_time": "2021-04-23T20:19:20.575105",
     "exception": false,
     "start_time": "2021-04-23T20:19:20.514269",
     "status": "completed"
    },
    "tags": []
   },
   "outputs": [
    {
     "data": {
      "text/plain": [
       "FAMILY                1968\n",
       "GAME                  1144\n",
       "TOOLS                  841\n",
       "MEDICAL                463\n",
       "BUSINESS               460\n",
       "PRODUCTIVITY           424\n",
       "PERSONALIZATION        390\n",
       "COMMUNICATION          387\n",
       "SPORTS                 384\n",
       "LIFESTYLE              382\n",
       "FINANCE                366\n",
       "HEALTH_AND_FITNESS     341\n",
       "PHOTOGRAPHY            335\n",
       "SOCIAL                 295\n",
       "NEWS_AND_MAGAZINES     283\n",
       "Name: Category, dtype: int64"
      ]
     },
     "execution_count": 30,
     "metadata": {},
     "output_type": "execute_result"
    }
   ],
   "source": [
    "df[\"Category\"].value_counts().head(15)"
   ]
  },
  {
   "cell_type": "code",
   "execution_count": 31,
   "id": "formed-amino",
   "metadata": {
    "execution": {
     "iopub.execute_input": "2021-04-23T20:19:20.697804Z",
     "iopub.status.busy": "2021-04-23T20:19:20.696879Z",
     "iopub.status.idle": "2021-04-23T20:19:21.206130Z",
     "shell.execute_reply": "2021-04-23T20:19:21.205402Z"
    },
    "papermill": {
     "duration": 0.583414,
     "end_time": "2021-04-23T20:19:21.206278",
     "exception": false,
     "start_time": "2021-04-23T20:19:20.622864",
     "status": "completed"
    },
    "tags": []
   },
   "outputs": [
    {
     "data": {
      "image/png": "[encoded data removed]",
      "text/plain": [
       "<Figure size 2304x864 with 2 Axes>"
      ]
     },
     "metadata": {
      "needs_background": "light"
     },
     "output_type": "display_data"
    }
   ],
   "source": [
    "fig, axarr = plt.subplots(1, 2, figsize=(32, 12))\n",
    "df.Category.value_counts().head(15).plot.pie(shadow=False, ax=axarr[1])\n",
    "df.Category.value_counts().head(15).plot(kind='bar', color=\"purple\", ax=axarr[0])\n",
    "plt.title('En çok yüklenen ilk 15 kategori');"
   ]
  },
  {
   "cell_type": "markdown",
   "id": "existing-inspection",
   "metadata": {
    "papermill": {
     "duration": 0.050062,
     "end_time": "2021-04-23T20:19:21.306502",
     "exception": false,
     "start_time": "2021-04-23T20:19:21.256440",
     "status": "completed"
    },
    "tags": []
   },
   "source": [
    "* Her kategorideki toplam uygulama indirme sayısına göre en popüler kategorilerin Game, Communication ve Productivity olduğunu ve en az popüler olanların Parenting, Beauty, Events olduğunu açıkça görebiliyoruz."
   ]
  },
  {
   "cell_type": "markdown",
   "id": "sophisticated-substance",
   "metadata": {
    "papermill": {
     "duration": 0.05099,
     "end_time": "2021-04-23T20:19:21.409004",
     "exception": false,
     "start_time": "2021-04-23T20:19:21.358014",
     "status": "completed"
    },
    "tags": []
   },
   "source": [
    "En çok sayıda yüklenmiş ilk 10 uygulamayı bulalım ve görselleştirelim."
   ]
  },
  {
   "cell_type": "code",
   "execution_count": 32,
   "id": "reported-falls",
   "metadata": {
    "execution": {
     "iopub.execute_input": "2021-04-23T20:19:21.519341Z",
     "iopub.status.busy": "2021-04-23T20:19:21.518787Z",
     "iopub.status.idle": "2021-04-23T20:19:21.527296Z",
     "shell.execute_reply": "2021-04-23T20:19:21.526838Z"
    },
    "papermill": {
     "duration": 0.067596,
     "end_time": "2021-04-23T20:19:21.527430",
     "exception": false,
     "start_time": "2021-04-23T20:19:21.459834",
     "status": "completed"
    },
    "tags": []
   },
   "outputs": [
    {
     "data": {
      "text/plain": [
       "ROBLOX                                               9\n",
       "CBS Sports App - Scores, News, Stats & Watch Live    8\n",
       "Candy Crush Saga                                     7\n",
       "Duolingo: Learn Languages Free                       7\n",
       "8 Ball Pool                                          7\n",
       "ESPN                                                 7\n",
       "slither.io                                           6\n",
       "Bubble Shooter                                       6\n",
       "Zombie Catchers                                      6\n",
       "Temple Run 2                                         6\n",
       "Name: App, dtype: int64"
      ]
     },
     "execution_count": 32,
     "metadata": {},
     "output_type": "execute_result"
    }
   ],
   "source": [
    "df[\"App\"].value_counts().head(10)"
   ]
  },
  {
   "cell_type": "code",
   "execution_count": 33,
   "id": "stuffed-oliver",
   "metadata": {
    "execution": {
     "iopub.execute_input": "2021-04-23T20:19:21.651294Z",
     "iopub.status.busy": "2021-04-23T20:19:21.650574Z",
     "iopub.status.idle": "2021-04-23T20:19:22.027882Z",
     "shell.execute_reply": "2021-04-23T20:19:22.027469Z"
    },
    "papermill": {
     "duration": 0.447388,
     "end_time": "2021-04-23T20:19:22.028017",
     "exception": false,
     "start_time": "2021-04-23T20:19:21.580629",
     "status": "completed"
    },
    "tags": []
   },
   "outputs": [
    {
     "data": {
      "image/png": "[encoded data removed]",
      "text/plain": [
       "<Figure size 2304x864 with 2 Axes>"
      ]
     },
     "metadata": {
      "needs_background": "light"
     },
     "output_type": "display_data"
    }
   ],
   "source": [
    "fig, axarr = plt.subplots(1, 2, figsize=(32, 12))\n",
    "df['App'].value_counts().head(10).plot.pie(shadow=False, ax=axarr[1])\n",
    "df['App'].value_counts().head(10).plot(kind='bar', color=\"purple\", ax=axarr[0])\n",
    "plt.title('En çok yüklenen ilk 10 uygulama');"
   ]
  },
  {
   "cell_type": "markdown",
   "id": "primary-constitution",
   "metadata": {
    "papermill": {
     "duration": 0.053706,
     "end_time": "2021-04-23T20:19:22.135588",
     "exception": false,
     "start_time": "2021-04-23T20:19:22.081882",
     "status": "completed"
    },
    "tags": []
   },
   "source": [
    "'Genre' ye göre, en çok sayıda uygulamanın bulunduğu en iyi 10 türü gösteren bir çubuk grafik çizdirelim."
   ]
  },
  {
   "cell_type": "code",
   "execution_count": 34,
   "id": "aquatic-border",
   "metadata": {
    "execution": {
     "iopub.execute_input": "2021-04-23T20:19:22.263238Z",
     "iopub.status.busy": "2021-04-23T20:19:22.249867Z",
     "iopub.status.idle": "2021-04-23T20:19:22.458043Z",
     "shell.execute_reply": "2021-04-23T20:19:22.457542Z"
    },
    "papermill": {
     "duration": 0.268531,
     "end_time": "2021-04-23T20:19:22.458161",
     "exception": false,
     "start_time": "2021-04-23T20:19:22.189630",
     "status": "completed"
    },
    "tags": []
   },
   "outputs": [
    {
     "data": {
      "image/png": "[encoded data removed]",
      "text/plain": [
       "<Figure size 1440x576 with 1 Axes>"
      ]
     },
     "metadata": {
      "needs_background": "light"
     },
     "output_type": "display_data"
    }
   ],
   "source": [
    "dfgenre = df['Genres'].value_counts()[:10]\n",
    "dfgenre.plot.bar(figsize=[20,8] , color=\"purple\")\n",
    "plt.xlabel('Genres', fontsize=12, fontweight='bold')\n",
    "plt.xticks(rotation=75, fontsize=12)\n",
    "plt.ylabel('Count', fontsize=12, fontweight='bold')\n",
    "plt.title('Top 10 Genres', fontweight='bold', fontsize=16)\n",
    "plt.show()"
   ]
  },
  {
   "cell_type": "markdown",
   "id": "restricted-lounge",
   "metadata": {
    "papermill": {
     "duration": 0.05428,
     "end_time": "2021-04-23T20:19:22.566347",
     "exception": false,
     "start_time": "2021-04-23T20:19:22.512067",
     "status": "completed"
    },
    "tags": []
   },
   "source": [
    "Google Play Store'daki ücretsiz ve ücretli uygulamaların yüzdesini inceleyelim."
   ]
  },
  {
   "cell_type": "code",
   "execution_count": 35,
   "id": "formal-insured",
   "metadata": {
    "execution": {
     "iopub.execute_input": "2021-04-23T20:19:22.706925Z",
     "iopub.status.busy": "2021-04-23T20:19:22.698966Z",
     "iopub.status.idle": "2021-04-23T20:19:22.763440Z",
     "shell.execute_reply": "2021-04-23T20:19:22.762875Z"
    },
    "papermill": {
     "duration": 0.142654,
     "end_time": "2021-04-23T20:19:22.763565",
     "exception": false,
     "start_time": "2021-04-23T20:19:22.620911",
     "status": "completed"
    },
    "tags": []
   },
   "outputs": [
    {
     "data": {
      "image/png": "[encoded data removed]",
      "text/plain": [
       "<Figure size 432x288 with 1 Axes>"
      ]
     },
     "metadata": {},
     "output_type": "display_data"
    }
   ],
   "source": [
    "dftype = df['Type'].value_counts()\n",
    "plt.pie(dftype, labels = dftype.index, autopct='%1.1f%%', startangle=180)\n",
    "plt.title('Types', fontweight='bold', fontsize=16)\n",
    "plt.show()"
   ]
  },
  {
   "cell_type": "markdown",
   "id": "unavailable-quick",
   "metadata": {
    "papermill": {
     "duration": 0.055057,
     "end_time": "2021-04-23T20:19:22.875776",
     "exception": false,
     "start_time": "2021-04-23T20:19:22.820719",
     "status": "completed"
    },
    "tags": []
   },
   "source": [
    "Daha iyi analiz edebilmek için bir de count plot ile bakalım."
   ]
  },
  {
   "cell_type": "code",
   "execution_count": 36,
   "id": "beneficial-fever",
   "metadata": {
    "execution": {
     "iopub.execute_input": "2021-04-23T20:19:23.002923Z",
     "iopub.status.busy": "2021-04-23T20:19:23.002424Z",
     "iopub.status.idle": "2021-04-23T20:19:23.097787Z",
     "shell.execute_reply": "2021-04-23T20:19:23.097237Z"
    },
    "papermill": {
     "duration": 0.16649,
     "end_time": "2021-04-23T20:19:23.097909",
     "exception": false,
     "start_time": "2021-04-23T20:19:22.931419",
     "status": "completed"
    },
    "tags": []
   },
   "outputs": [
    {
     "data": {
      "image/png": "[encoded data removed]",
      "text/plain": [
       "<Figure size 720x144 with 1 Axes>"
      ]
     },
     "metadata": {
      "needs_background": "light"
     },
     "output_type": "display_data"
    }
   ],
   "source": [
    "plt.figure(figsize=(10,2))\n",
    "sns.countplot(y = 'Type',data = df);"
   ]
  },
  {
   "cell_type": "markdown",
   "id": "retired-bathroom",
   "metadata": {
    "papermill": {
     "duration": 0.054421,
     "end_time": "2021-04-23T20:19:23.208136",
     "exception": false,
     "start_time": "2021-04-23T20:19:23.153715",
     "status": "completed"
    },
    "tags": []
   },
   "source": [
    "* Açıkçası çoğu uygulamanın Google Play Store'da ücretsiz olduğunu görebiliyoruz"
   ]
  },
  {
   "cell_type": "markdown",
   "id": "outside-marketplace",
   "metadata": {
    "papermill": {
     "duration": 0.054426,
     "end_time": "2021-04-23T20:19:23.317685",
     "exception": false,
     "start_time": "2021-04-23T20:19:23.263259",
     "status": "completed"
    },
    "tags": []
   },
   "source": [
    "Elimizdeki verilere göre ücretsiz ve ücretli uygulamaların tam sayısını bulalım."
   ]
  },
  {
   "cell_type": "code",
   "execution_count": 37,
   "id": "endangered-shade",
   "metadata": {
    "execution": {
     "iopub.execute_input": "2021-04-23T20:19:23.443477Z",
     "iopub.status.busy": "2021-04-23T20:19:23.442781Z",
     "iopub.status.idle": "2021-04-23T20:19:23.448269Z",
     "shell.execute_reply": "2021-04-23T20:19:23.447595Z"
    },
    "papermill": {
     "duration": 0.075106,
     "end_time": "2021-04-23T20:19:23.448420",
     "exception": false,
     "start_time": "2021-04-23T20:19:23.373314",
     "status": "completed"
    },
    "tags": []
   },
   "outputs": [
    {
     "name": "stdout",
     "output_type": "stream",
     "text": [
      "Ücretsiz uygulama sayısı: 10032\n",
      "Ücretli uygulama sayısı: 797\n"
     ]
    }
   ],
   "source": [
    "print('Ücretsiz uygulama sayısı: {}\\nÜcretli uygulama sayısı: {}'.format(df['Type'].value_counts()[0], df['Type'].value_counts()[1]))"
   ]
  },
  {
   "cell_type": "markdown",
   "id": "elegant-level",
   "metadata": {
    "papermill": {
     "duration": 0.055239,
     "end_time": "2021-04-23T20:19:23.561329",
     "exception": false,
     "start_time": "2021-04-23T20:19:23.506090",
     "status": "completed"
    },
    "tags": []
   },
   "source": [
    "'Category'e göre ücretli veya ücretsiz uygulamaların değerlendirmesini yapalım ortalama puanlarını hesaplayalım."
   ]
  },
  {
   "cell_type": "code",
   "execution_count": 38,
   "id": "polar-reach",
   "metadata": {
    "execution": {
     "iopub.execute_input": "2021-04-23T20:19:23.679470Z",
     "iopub.status.busy": "2021-04-23T20:19:23.678781Z",
     "iopub.status.idle": "2021-04-23T20:19:24.133451Z",
     "shell.execute_reply": "2021-04-23T20:19:24.132922Z"
    },
    "papermill": {
     "duration": 0.516573,
     "end_time": "2021-04-23T20:19:24.133573",
     "exception": false,
     "start_time": "2021-04-23T20:19:23.617000",
     "status": "completed"
    },
    "tags": []
   },
   "outputs": [
    {
     "data": {
      "text/plain": [
       "<function matplotlib.pyplot.show(close=None, block=None)>"
      ]
     },
     "execution_count": 38,
     "metadata": {},
     "output_type": "execute_result"
    },
    {
     "data": {
      "image/png": "[encoded data removed]",
      "text/plain": [
       "<Figure size 1440x576 with 1 Axes>"
      ]
     },
     "metadata": {
      "needs_background": "light"
     },
     "output_type": "display_data"
    }
   ],
   "source": [
    "dfrating_mean = df.groupby(['Category', 'Type'])['Rating'].mean().unstack().sort_values('Category')\n",
    "dfrating_mean.plot.bar(figsize=[20,8])\n",
    "plt.xlabel('Category', fontsize=12, fontweight='bold')\n",
    "plt.ylabel('Rating', fontsize=12, fontweight='bold')\n",
    "plt.title('Her kategoride ücretli ve ücretsiz uygulamaların ortalama puanı', fontsize=16, fontweight='bold')\n",
    "plt.show"
   ]
  },
  {
   "cell_type": "markdown",
   "id": "revolutionary-synthetic",
   "metadata": {
    "papermill": {
     "duration": 0.057144,
     "end_time": "2021-04-23T20:19:24.248818",
     "exception": false,
     "start_time": "2021-04-23T20:19:24.191674",
     "status": "completed"
    },
    "tags": []
   },
   "source": [
    "* Kategorilerin çoğunda Ücretli uygulamaların Ücretsiz uygulamalara kıyasla daha yüksek ortalama derecelendirmeye sahip olduğunu görebiliriz, ancak bu her kategori için doğru değildir."
   ]
  },
  {
   "cell_type": "markdown",
   "id": "designing-angel",
   "metadata": {
    "papermill": {
     "duration": 0.057189,
     "end_time": "2021-04-23T20:19:24.364223",
     "exception": false,
     "start_time": "2021-04-23T20:19:24.307034",
     "status": "completed"
    },
    "tags": []
   },
   "source": [
    "En çok 'Reviews' alan uygulama ve 'Reviews' sayısına bakalım"
   ]
  },
  {
   "cell_type": "code",
   "execution_count": 39,
   "id": "liable-preparation",
   "metadata": {
    "execution": {
     "iopub.execute_input": "2021-04-23T20:19:24.486293Z",
     "iopub.status.busy": "2021-04-23T20:19:24.485586Z",
     "iopub.status.idle": "2021-04-23T20:19:24.494659Z",
     "shell.execute_reply": "2021-04-23T20:19:24.493927Z"
    },
    "papermill": {
     "duration": 0.073068,
     "end_time": "2021-04-23T20:19:24.494812",
     "exception": false,
     "start_time": "2021-04-23T20:19:24.421744",
     "status": "completed"
    },
    "tags": []
   },
   "outputs": [
    {
     "name": "stdout",
     "output_type": "stream",
     "text": [
      "En çok değerlendirme alan uygulama: Facebook\n",
      "Ve 78158306 değerlendirmesi var \n"
     ]
    }
   ],
   "source": [
    "dfreviews = df[df['Reviews'] == df['Reviews'].max()][['App', 'Reviews']].reset_index(drop=True)\n",
    "print('En çok değerlendirme alan uygulama: {}'.format(dfreviews['App'][0]))\n",
    "print('Ve {} değerlendirmesi var '.format(dfreviews['Reviews'][0]))"
   ]
  },
  {
   "cell_type": "markdown",
   "id": "better-maldives",
   "metadata": {
    "papermill": {
     "duration": 0.083677,
     "end_time": "2021-04-23T20:19:24.665425",
     "exception": false,
     "start_time": "2021-04-23T20:19:24.581748",
     "status": "completed"
    },
    "tags": []
   },
   "source": [
    "'Reviews' sayısına göre ilk 10 uygulamayı karşılaştıralım"
   ]
  },
  {
   "cell_type": "code",
   "execution_count": 40,
   "id": "working-joint",
   "metadata": {
    "execution": {
     "iopub.execute_input": "2021-04-23T20:19:24.843525Z",
     "iopub.status.busy": "2021-04-23T20:19:24.842796Z",
     "iopub.status.idle": "2021-04-23T20:19:25.055590Z",
     "shell.execute_reply": "2021-04-23T20:19:25.056142Z"
    },
    "papermill": {
     "duration": 0.306109,
     "end_time": "2021-04-23T20:19:25.056367",
     "exception": false,
     "start_time": "2021-04-23T20:19:24.750258",
     "status": "completed"
    },
    "tags": []
   },
   "outputs": [
    {
     "data": {
      "image/png": "[encoded data removed]",
      "text/plain": [
       "<Figure size 1080x360 with 1 Axes>"
      ]
     },
     "metadata": {
      "needs_background": "light"
     },
     "output_type": "display_data"
    }
   ],
   "source": [
    "dfreviews = df.sort_values('Reviews', ascending=False)[['App', 'Reviews']][:10]\n",
    "dfreviews['Reviews'] = dfreviews['Reviews']/10**6\n",
    "dfreviews.plot.bar(x='App', y='Reviews', figsize=[15,5], color=\"purple\")\n",
    "plt.title('En çok Reviews(inceleme) alan uygulamalar', fontweight='bold', fontsize=16)\n",
    "plt.xlabel('Uygulama', fontsize=12)\n",
    "plt.ylabel('Reviews', fontsize=12)\n",
    "plt.show()"
   ]
  },
  {
   "cell_type": "markdown",
   "id": "baking-tumor",
   "metadata": {
    "papermill": {
     "duration": 0.085976,
     "end_time": "2021-04-23T20:19:25.229135",
     "exception": false,
     "start_time": "2021-04-23T20:19:25.143159",
     "status": "completed"
    },
    "tags": []
   },
   "source": [
    "Maksimum boyuta sahip uygulamaların adı ve kategorisine bakalım."
   ]
  },
  {
   "cell_type": "code",
   "execution_count": 41,
   "id": "amber-psychology",
   "metadata": {
    "execution": {
     "iopub.execute_input": "2021-04-23T20:19:25.417729Z",
     "iopub.status.busy": "2021-04-23T20:19:25.416801Z",
     "iopub.status.idle": "2021-04-23T20:19:25.424890Z",
     "shell.execute_reply": "2021-04-23T20:19:25.424215Z"
    },
    "papermill": {
     "duration": 0.109302,
     "end_time": "2021-04-23T20:19:25.425037",
     "exception": false,
     "start_time": "2021-04-23T20:19:25.315735",
     "status": "completed"
    },
    "tags": []
   },
   "outputs": [
    {
     "name": "stdout",
     "output_type": "stream",
     "text": [
      "Maksimum boyuta sahip uygulamaların kategorisi ve boyutu\n"
     ]
    },
    {
     "data": {
      "text/html": [
       "<div>\n",
       "<style scoped>\n",
       "    .dataframe tbody tr th:only-of-type {\n",
       "        vertical-align: middle;\n",
       "    }\n",
       "\n",
       "    .dataframe tbody tr th {\n",
       "        vertical-align: top;\n",
       "    }\n",
       "\n",
       "    .dataframe thead th {\n",
       "        text-align: right;\n",
       "    }\n",
       "</style>\n",
       "<table border=\"1\" class=\"dataframe\">\n",
       "  <thead>\n",
       "    <tr style=\"text-align: right;\">\n",
       "      <th></th>\n",
       "      <th>App</th>\n",
       "      <th>Category</th>\n",
       "      <th>Size</th>\n",
       "    </tr>\n",
       "  </thead>\n",
       "  <tbody>\n",
       "    <tr>\n",
       "      <th>0</th>\n",
       "      <td>Post Bank</td>\n",
       "      <td>FINANCE</td>\n",
       "      <td>100000000.0</td>\n",
       "    </tr>\n",
       "    <tr>\n",
       "      <th>1</th>\n",
       "      <td>Talking Babsy Baby: Baby Games</td>\n",
       "      <td>LIFESTYLE</td>\n",
       "      <td>100000000.0</td>\n",
       "    </tr>\n",
       "    <tr>\n",
       "      <th>2</th>\n",
       "      <td>Hungry Shark Evolution</td>\n",
       "      <td>GAME</td>\n",
       "      <td>100000000.0</td>\n",
       "    </tr>\n",
       "    <tr>\n",
       "      <th>3</th>\n",
       "      <td>Mini Golf King - Multiplayer Game</td>\n",
       "      <td>GAME</td>\n",
       "      <td>100000000.0</td>\n",
       "    </tr>\n",
       "    <tr>\n",
       "      <th>4</th>\n",
       "      <td>Hungry Shark Evolution</td>\n",
       "      <td>GAME</td>\n",
       "      <td>100000000.0</td>\n",
       "    </tr>\n",
       "    <tr>\n",
       "      <th>5</th>\n",
       "      <td>Navi Radiography Pro</td>\n",
       "      <td>MEDICAL</td>\n",
       "      <td>100000000.0</td>\n",
       "    </tr>\n",
       "    <tr>\n",
       "      <th>6</th>\n",
       "      <td>Hungry Shark Evolution</td>\n",
       "      <td>GAME</td>\n",
       "      <td>100000000.0</td>\n",
       "    </tr>\n",
       "    <tr>\n",
       "      <th>7</th>\n",
       "      <td>Vi Trainer</td>\n",
       "      <td>HEALTH_AND_FITNESS</td>\n",
       "      <td>100000000.0</td>\n",
       "    </tr>\n",
       "    <tr>\n",
       "      <th>8</th>\n",
       "      <td>Ultimate Tennis</td>\n",
       "      <td>SPORTS</td>\n",
       "      <td>100000000.0</td>\n",
       "    </tr>\n",
       "    <tr>\n",
       "      <th>9</th>\n",
       "      <td>The Walking Dead: Our World</td>\n",
       "      <td>GAME</td>\n",
       "      <td>100000000.0</td>\n",
       "    </tr>\n",
       "    <tr>\n",
       "      <th>10</th>\n",
       "      <td>Miami crime simulator</td>\n",
       "      <td>GAME</td>\n",
       "      <td>100000000.0</td>\n",
       "    </tr>\n",
       "    <tr>\n",
       "      <th>11</th>\n",
       "      <td>Gangster Town: Vice District</td>\n",
       "      <td>FAMILY</td>\n",
       "      <td>100000000.0</td>\n",
       "    </tr>\n",
       "    <tr>\n",
       "      <th>12</th>\n",
       "      <td>SimCity BuildIt</td>\n",
       "      <td>FAMILY</td>\n",
       "      <td>100000000.0</td>\n",
       "    </tr>\n",
       "    <tr>\n",
       "      <th>13</th>\n",
       "      <td>Car Crash III Beam DH Real Damage Simulator 2018</td>\n",
       "      <td>GAME</td>\n",
       "      <td>100000000.0</td>\n",
       "    </tr>\n",
       "    <tr>\n",
       "      <th>14</th>\n",
       "      <td>Draft Simulator for FUT 18</td>\n",
       "      <td>SPORTS</td>\n",
       "      <td>100000000.0</td>\n",
       "    </tr>\n",
       "    <tr>\n",
       "      <th>15</th>\n",
       "      <td>Stickman Legends: Shadow Wars</td>\n",
       "      <td>GAME</td>\n",
       "      <td>100000000.0</td>\n",
       "    </tr>\n",
       "  </tbody>\n",
       "</table>\n",
       "</div>"
      ],
      "text/plain": [
       "                                                 App            Category  \\\n",
       "0                                          Post Bank             FINANCE   \n",
       "1                     Talking Babsy Baby: Baby Games           LIFESTYLE   \n",
       "2                             Hungry Shark Evolution                GAME   \n",
       "3                  Mini Golf King - Multiplayer Game                GAME   \n",
       "4                             Hungry Shark Evolution                GAME   \n",
       "5                               Navi Radiography Pro             MEDICAL   \n",
       "6                             Hungry Shark Evolution                GAME   \n",
       "7                                         Vi Trainer  HEALTH_AND_FITNESS   \n",
       "8                                    Ultimate Tennis              SPORTS   \n",
       "9                        The Walking Dead: Our World                GAME   \n",
       "10                             Miami crime simulator                GAME   \n",
       "11                      Gangster Town: Vice District              FAMILY   \n",
       "12                                   SimCity BuildIt              FAMILY   \n",
       "13  Car Crash III Beam DH Real Damage Simulator 2018                GAME   \n",
       "14                        Draft Simulator for FUT 18              SPORTS   \n",
       "15                     Stickman Legends: Shadow Wars                GAME   \n",
       "\n",
       "           Size  \n",
       "0   100000000.0  \n",
       "1   100000000.0  \n",
       "2   100000000.0  \n",
       "3   100000000.0  \n",
       "4   100000000.0  \n",
       "5   100000000.0  \n",
       "6   100000000.0  \n",
       "7   100000000.0  \n",
       "8   100000000.0  \n",
       "9   100000000.0  \n",
       "10  100000000.0  \n",
       "11  100000000.0  \n",
       "12  100000000.0  \n",
       "13  100000000.0  \n",
       "14  100000000.0  \n",
       "15  100000000.0  "
      ]
     },
     "execution_count": 41,
     "metadata": {},
     "output_type": "execute_result"
    }
   ],
   "source": [
    "print('Maksimum boyuta sahip uygulamaların kategorisi ve boyutu')\n",
    "df[df['Size'] == df['Size'].max()][['App', 'Category', 'Size']].reset_index(drop=True)"
   ]
  },
  {
   "cell_type": "markdown",
   "id": "worldwide-highlight",
   "metadata": {
    "papermill": {
     "duration": 0.088028,
     "end_time": "2021-04-23T20:19:25.599514",
     "exception": false,
     "start_time": "2021-04-23T20:19:25.511486",
     "status": "completed"
    },
    "tags": []
   },
   "source": [
    "Tüm bu uygulamaların boyutu 100Mb'dir"
   ]
  },
  {
   "cell_type": "markdown",
   "id": "ambient-martin",
   "metadata": {
    "papermill": {
     "duration": 0.088704,
     "end_time": "2021-04-23T20:19:25.775812",
     "exception": false,
     "start_time": "2021-04-23T20:19:25.687108",
     "status": "completed"
    },
    "tags": []
   },
   "source": [
    "Her kategoriden maksimum boyuta sahip uygulamaların adı nedir?"
   ]
  },
  {
   "cell_type": "code",
   "execution_count": 42,
   "id": "moral-wagon",
   "metadata": {
    "execution": {
     "iopub.execute_input": "2021-04-23T20:19:25.959963Z",
     "iopub.status.busy": "2021-04-23T20:19:25.959290Z",
     "iopub.status.idle": "2021-04-23T20:19:25.994510Z",
     "shell.execute_reply": "2021-04-23T20:19:25.993915Z"
    },
    "papermill": {
     "duration": 0.129346,
     "end_time": "2021-04-23T20:19:25.994654",
     "exception": false,
     "start_time": "2021-04-23T20:19:25.865308",
     "status": "completed"
    },
    "tags": []
   },
   "outputs": [
    {
     "data": {
      "text/html": [
       "<div>\n",
       "<style scoped>\n",
       "    .dataframe tbody tr th:only-of-type {\n",
       "        vertical-align: middle;\n",
       "    }\n",
       "\n",
       "    .dataframe tbody tr th {\n",
       "        vertical-align: top;\n",
       "    }\n",
       "\n",
       "    .dataframe thead th {\n",
       "        text-align: right;\n",
       "    }\n",
       "</style>\n",
       "<table border=\"1\" class=\"dataframe\">\n",
       "  <thead>\n",
       "    <tr style=\"text-align: right;\">\n",
       "      <th></th>\n",
       "      <th>App</th>\n",
       "      <th>Size</th>\n",
       "    </tr>\n",
       "    <tr>\n",
       "      <th>Category</th>\n",
       "      <th></th>\n",
       "      <th></th>\n",
       "    </tr>\n",
       "  </thead>\n",
       "  <tbody>\n",
       "    <tr>\n",
       "      <th>ART_AND_DESIGN</th>\n",
       "      <td>FlipaClip - Cartoon animation</td>\n",
       "      <td>39000000.0</td>\n",
       "    </tr>\n",
       "    <tr>\n",
       "      <th>AUTO_AND_VEHICLES</th>\n",
       "      <td>Repair Hyundai Santa Fe</td>\n",
       "      <td>97000000.0</td>\n",
       "    </tr>\n",
       "    <tr>\n",
       "      <th>BEAUTY</th>\n",
       "      <td>Sephora: Skin Care, Beauty Makeup &amp; Fragrance ...</td>\n",
       "      <td>57000000.0</td>\n",
       "    </tr>\n",
       "    <tr>\n",
       "      <th>BOOKS_AND_REFERENCE</th>\n",
       "      <td>Bilingual Dictionary Audio App</td>\n",
       "      <td>87000000.0</td>\n",
       "    </tr>\n",
       "    <tr>\n",
       "      <th>BUSINESS</th>\n",
       "      <td>PIO bv App</td>\n",
       "      <td>98000000.0</td>\n",
       "    </tr>\n",
       "    <tr>\n",
       "      <th>COMICS</th>\n",
       "      <td>Faustop Sounds</td>\n",
       "      <td>40000000.0</td>\n",
       "    </tr>\n",
       "    <tr>\n",
       "      <th>COMMUNICATION</th>\n",
       "      <td>Microsoft Edge</td>\n",
       "      <td>66000000.0</td>\n",
       "    </tr>\n",
       "    <tr>\n",
       "      <th>DATING</th>\n",
       "      <td>iPair-Meet, Chat, Dating</td>\n",
       "      <td>77000000.0</td>\n",
       "    </tr>\n",
       "    <tr>\n",
       "      <th>EDUCATION</th>\n",
       "      <td>Memorado - Brain Games</td>\n",
       "      <td>97000000.0</td>\n",
       "    </tr>\n",
       "    <tr>\n",
       "      <th>ENTERTAINMENT</th>\n",
       "      <td>Ziggo GO</td>\n",
       "      <td>78000000.0</td>\n",
       "    </tr>\n",
       "    <tr>\n",
       "      <th>EVENTS</th>\n",
       "      <td>SUMMER SONIC app</td>\n",
       "      <td>61000000.0</td>\n",
       "    </tr>\n",
       "    <tr>\n",
       "      <th>FAMILY</th>\n",
       "      <td>SimCity BuildIt</td>\n",
       "      <td>100000000.0</td>\n",
       "    </tr>\n",
       "    <tr>\n",
       "      <th>FINANCE</th>\n",
       "      <td>Post Bank</td>\n",
       "      <td>100000000.0</td>\n",
       "    </tr>\n",
       "    <tr>\n",
       "      <th>FOOD_AND_DRINK</th>\n",
       "      <td>BigOven Recipes, Meal Planner, Grocery List &amp; ...</td>\n",
       "      <td>76000000.0</td>\n",
       "    </tr>\n",
       "    <tr>\n",
       "      <th>GAME</th>\n",
       "      <td>Hungry Shark Evolution</td>\n",
       "      <td>100000000.0</td>\n",
       "    </tr>\n",
       "    <tr>\n",
       "      <th>HEALTH_AND_FITNESS</th>\n",
       "      <td>Vi Trainer</td>\n",
       "      <td>100000000.0</td>\n",
       "    </tr>\n",
       "    <tr>\n",
       "      <th>HOUSE_AND_HOME</th>\n",
       "      <td>ColorSnap® Visualizer</td>\n",
       "      <td>77000000.0</td>\n",
       "    </tr>\n",
       "    <tr>\n",
       "      <th>LIBRARIES_AND_DEMO</th>\n",
       "      <td>Chakra Cleansing</td>\n",
       "      <td>99000000.0</td>\n",
       "    </tr>\n",
       "    <tr>\n",
       "      <th>LIFESTYLE</th>\n",
       "      <td>Talking Babsy Baby: Baby Games</td>\n",
       "      <td>100000000.0</td>\n",
       "    </tr>\n",
       "    <tr>\n",
       "      <th>MAPS_AND_NAVIGATION</th>\n",
       "      <td>hum app</td>\n",
       "      <td>78000000.0</td>\n",
       "    </tr>\n",
       "    <tr>\n",
       "      <th>MEDICAL</th>\n",
       "      <td>Navi Radiography Pro</td>\n",
       "      <td>100000000.0</td>\n",
       "    </tr>\n",
       "    <tr>\n",
       "      <th>NEWS_AND_MAGAZINES</th>\n",
       "      <td>NATIVE ENTERTAINMENT MAGAZINE - ISSUE # 1</td>\n",
       "      <td>62000000.0</td>\n",
       "    </tr>\n",
       "    <tr>\n",
       "      <th>PARENTING</th>\n",
       "      <td>Mozart Baby Sleep</td>\n",
       "      <td>98000000.0</td>\n",
       "    </tr>\n",
       "    <tr>\n",
       "      <th>PERSONALIZATION</th>\n",
       "      <td>Marvel and DC Wallpapers</td>\n",
       "      <td>91000000.0</td>\n",
       "    </tr>\n",
       "    <tr>\n",
       "      <th>PHOTOGRAPHY</th>\n",
       "      <td>Facejjang</td>\n",
       "      <td>96000000.0</td>\n",
       "    </tr>\n",
       "    <tr>\n",
       "      <th>PRODUCTIVITY</th>\n",
       "      <td>DF-Server Mobile</td>\n",
       "      <td>76000000.0</td>\n",
       "    </tr>\n",
       "    <tr>\n",
       "      <th>SHOPPING</th>\n",
       "      <td>Jingdong - pick good things, go to Jingdong</td>\n",
       "      <td>98000000.0</td>\n",
       "    </tr>\n",
       "    <tr>\n",
       "      <th>SOCIAL</th>\n",
       "      <td>BOO! - Next Generation Messenger</td>\n",
       "      <td>96000000.0</td>\n",
       "    </tr>\n",
       "    <tr>\n",
       "      <th>SPORTS</th>\n",
       "      <td>Draft Simulator for FUT 18</td>\n",
       "      <td>100000000.0</td>\n",
       "    </tr>\n",
       "    <tr>\n",
       "      <th>TOOLS</th>\n",
       "      <td>AI Benchmark</td>\n",
       "      <td>99000000.0</td>\n",
       "    </tr>\n",
       "    <tr>\n",
       "      <th>TRAVEL_AND_LOCAL</th>\n",
       "      <td>Audiowalk EB</td>\n",
       "      <td>90000000.0</td>\n",
       "    </tr>\n",
       "    <tr>\n",
       "      <th>VIDEO_PLAYERS</th>\n",
       "      <td>Quik – Free Video Editor for photos, clips, music</td>\n",
       "      <td>91000000.0</td>\n",
       "    </tr>\n",
       "    <tr>\n",
       "      <th>WEATHER</th>\n",
       "      <td>METEO FRANCE</td>\n",
       "      <td>54000000.0</td>\n",
       "    </tr>\n",
       "  </tbody>\n",
       "</table>\n",
       "</div>"
      ],
      "text/plain": [
       "                                                                   App  \\\n",
       "Category                                                                 \n",
       "ART_AND_DESIGN                           FlipaClip - Cartoon animation   \n",
       "AUTO_AND_VEHICLES                              Repair Hyundai Santa Fe   \n",
       "BEAUTY               Sephora: Skin Care, Beauty Makeup & Fragrance ...   \n",
       "BOOKS_AND_REFERENCE                     Bilingual Dictionary Audio App   \n",
       "BUSINESS                                                    PIO bv App   \n",
       "COMICS                                                  Faustop Sounds   \n",
       "COMMUNICATION                                           Microsoft Edge   \n",
       "DATING                                        iPair-Meet, Chat, Dating   \n",
       "EDUCATION                                       Memorado - Brain Games   \n",
       "ENTERTAINMENT                                                 Ziggo GO   \n",
       "EVENTS                                                SUMMER SONIC app   \n",
       "FAMILY                                                 SimCity BuildIt   \n",
       "FINANCE                                                      Post Bank   \n",
       "FOOD_AND_DRINK       BigOven Recipes, Meal Planner, Grocery List & ...   \n",
       "GAME                                            Hungry Shark Evolution   \n",
       "HEALTH_AND_FITNESS                                          Vi Trainer   \n",
       "HOUSE_AND_HOME                                   ColorSnap® Visualizer   \n",
       "LIBRARIES_AND_DEMO                                    Chakra Cleansing   \n",
       "LIFESTYLE                               Talking Babsy Baby: Baby Games   \n",
       "MAPS_AND_NAVIGATION                                            hum app   \n",
       "MEDICAL                                           Navi Radiography Pro   \n",
       "NEWS_AND_MAGAZINES           NATIVE ENTERTAINMENT MAGAZINE - ISSUE # 1   \n",
       "PARENTING                                            Mozart Baby Sleep   \n",
       "PERSONALIZATION                               Marvel and DC Wallpapers   \n",
       "PHOTOGRAPHY                                                  Facejjang   \n",
       "PRODUCTIVITY                                          DF-Server Mobile   \n",
       "SHOPPING                   Jingdong - pick good things, go to Jingdong   \n",
       "SOCIAL                                BOO! - Next Generation Messenger   \n",
       "SPORTS                                      Draft Simulator for FUT 18   \n",
       "TOOLS                                                     AI Benchmark   \n",
       "TRAVEL_AND_LOCAL                                          Audiowalk EB   \n",
       "VIDEO_PLAYERS        Quik – Free Video Editor for photos, clips, music   \n",
       "WEATHER                                                   METEO FRANCE   \n",
       "\n",
       "                            Size  \n",
       "Category                          \n",
       "ART_AND_DESIGN        39000000.0  \n",
       "AUTO_AND_VEHICLES     97000000.0  \n",
       "BEAUTY                57000000.0  \n",
       "BOOKS_AND_REFERENCE   87000000.0  \n",
       "BUSINESS              98000000.0  \n",
       "COMICS                40000000.0  \n",
       "COMMUNICATION         66000000.0  \n",
       "DATING                77000000.0  \n",
       "EDUCATION             97000000.0  \n",
       "ENTERTAINMENT         78000000.0  \n",
       "EVENTS                61000000.0  \n",
       "FAMILY               100000000.0  \n",
       "FINANCE              100000000.0  \n",
       "FOOD_AND_DRINK        76000000.0  \n",
       "GAME                 100000000.0  \n",
       "HEALTH_AND_FITNESS   100000000.0  \n",
       "HOUSE_AND_HOME        77000000.0  \n",
       "LIBRARIES_AND_DEMO    99000000.0  \n",
       "LIFESTYLE            100000000.0  \n",
       "MAPS_AND_NAVIGATION   78000000.0  \n",
       "MEDICAL              100000000.0  \n",
       "NEWS_AND_MAGAZINES    62000000.0  \n",
       "PARENTING             98000000.0  \n",
       "PERSONALIZATION       91000000.0  \n",
       "PHOTOGRAPHY           96000000.0  \n",
       "PRODUCTIVITY          76000000.0  \n",
       "SHOPPING              98000000.0  \n",
       "SOCIAL                96000000.0  \n",
       "SPORTS               100000000.0  \n",
       "TOOLS                 99000000.0  \n",
       "TRAVEL_AND_LOCAL      90000000.0  \n",
       "VIDEO_PLAYERS         91000000.0  \n",
       "WEATHER               54000000.0  "
      ]
     },
     "execution_count": 42,
     "metadata": {},
     "output_type": "execute_result"
    }
   ],
   "source": [
    "df.sort_values(['Size', 'Rating'], ascending=False).groupby('Category').first()[['App', 'Size']]"
   ]
  },
  {
   "cell_type": "markdown",
   "id": "massive-snake",
   "metadata": {
    "papermill": {
     "duration": 0.089891,
     "end_time": "2021-04-23T20:19:26.173965",
     "exception": false,
     "start_time": "2021-04-23T20:19:26.084074",
     "status": "completed"
    },
    "tags": []
   },
   "source": [
    "Uzun zamandır güncellenmeyen uygulamalara bakalım."
   ]
  },
  {
   "cell_type": "code",
   "execution_count": 43,
   "id": "acknowledged-consumer",
   "metadata": {
    "execution": {
     "iopub.execute_input": "2021-04-23T20:19:26.358717Z",
     "iopub.status.busy": "2021-04-23T20:19:26.357827Z",
     "iopub.status.idle": "2021-04-23T20:19:26.369395Z",
     "shell.execute_reply": "2021-04-23T20:19:26.368806Z"
    },
    "papermill": {
     "duration": 0.106163,
     "end_time": "2021-04-23T20:19:26.369548",
     "exception": false,
     "start_time": "2021-04-23T20:19:26.263385",
     "status": "completed"
    },
    "tags": []
   },
   "outputs": [
    {
     "name": "stdout",
     "output_type": "stream",
     "text": [
      "Uzun zamandır güncellenmeyen uygulama: FML F*ck my life + widget\n",
      "En son tarihinde güncellendi: 2010-05-21 00:00:00\n"
     ]
    }
   ],
   "source": [
    "df['Güncellemeden bu yana geçen gün sayısı'] = (pd.Timestamp.now() - df['Last Updated']).dt.days\n",
    "df_last_updated = df[df['Güncellemeden bu yana geçen gün sayısı'] == df['Güncellemeden bu yana geçen gün sayısı'].max()][['App', 'Last Updated']].reset_index(drop=True)\n",
    "\n",
    "print('Uzun zamandır güncellenmeyen uygulama: {}'.format(df_last_updated['App'][0]))\n",
    "print('En son tarihinde güncellendi: {}'.format(df_last_updated['Last Updated'][0]))"
   ]
  },
  {
   "cell_type": "markdown",
   "id": "passing-funeral",
   "metadata": {
    "papermill": {
     "duration": 0.089921,
     "end_time": "2021-04-23T20:19:26.550130",
     "exception": false,
     "start_time": "2021-04-23T20:19:26.460209",
     "status": "completed"
    },
    "tags": []
   },
   "source": [
    "Sahip oldukları 'Content Rating' göre uygulama sayısını gösteren bir plot chart çizelim."
   ]
  },
  {
   "cell_type": "code",
   "execution_count": 44,
   "id": "compatible-bicycle",
   "metadata": {
    "execution": {
     "iopub.execute_input": "2021-04-23T20:19:26.788090Z",
     "iopub.status.busy": "2021-04-23T20:19:26.778140Z",
     "iopub.status.idle": "2021-04-23T20:19:26.939942Z",
     "shell.execute_reply": "2021-04-23T20:19:26.938772Z"
    },
    "papermill": {
     "duration": 0.299961,
     "end_time": "2021-04-23T20:19:26.940095",
     "exception": false,
     "start_time": "2021-04-23T20:19:26.640134",
     "status": "completed"
    },
    "tags": []
   },
   "outputs": [
    {
     "data": {
      "image/png": "[encoded data removed]",
      "text/plain": [
       "<Figure size 1440x576 with 1 Axes>"
      ]
     },
     "metadata": {
      "needs_background": "light"
     },
     "output_type": "display_data"
    }
   ],
   "source": [
    "dfrating = df['Content Rating'].value_counts()\n",
    "dfrating.plot.bar(figsize=[20,8], color = \"purple\")\n",
    "plt.xlabel('Content Rating', fontsize=12, fontweight='bold')\n",
    "plt.xticks(rotation=90, fontsize=12)\n",
    "plt.ylabel('Count', fontsize=12, fontweight='bold')\n",
    "plt.title('Content Rating e göre uygulamalar' , fontweight='bold', fontsize=16)\n",
    "plt.show()"
   ]
  },
  {
   "cell_type": "markdown",
   "id": "revised-algebra",
   "metadata": {
    "papermill": {
     "duration": 0.062416,
     "end_time": "2021-04-23T20:19:27.066628",
     "exception": false,
     "start_time": "2021-04-23T20:19:27.004212",
     "status": "completed"
    },
    "tags": []
   },
   "source": [
    "* Uygulamaların çoğunun herkes/everyone için olduğunu görebiliriz"
   ]
  }
 ],
 "metadata": {
  "kernelspec": {
   "display_name": "Python 3",
   "language": "python",
   "name": "python3"
  },
  "language_info": {
   "codemirror_mode": {
    "name": "ipython",
    "version": 3
   },
   "file_extension": ".py",
   "mimetype": "text/x-python",
   "name": "python",
   "nbconvert_exporter": "python",
   "pygments_lexer": "ipython3",
   "version": "3.7.9"
  },
  "papermill": {
   "default_parameters": {},
   "duration": 23.366889,
   "end_time": "2021-04-23T20:19:27.942607",
   "environment_variables": {},
   "exception": null,
   "input_path": "__notebook__.ipynb",
   "output_path": "__notebook__.ipynb",
   "parameters": {},
   "start_time": "2021-04-23T20:19:04.575718",
   "version": "2.3.2"
  }
 },
 "nbformat": 4,
 "nbformat_minor": 5
}
