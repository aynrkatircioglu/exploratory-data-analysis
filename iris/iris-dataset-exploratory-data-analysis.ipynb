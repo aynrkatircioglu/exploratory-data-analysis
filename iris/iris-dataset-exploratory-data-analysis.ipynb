{
 "cells": [
  {
   "cell_type": "markdown",
   "id": "overall-sympathy",
   "metadata": {
    "papermill": {
     "duration": 0.045523,
     "end_time": "2021-04-09T10:25:39.863301",
     "exception": false,
     "start_time": "2021-04-09T10:25:39.817778",
     "status": "completed"
    },
    "tags": []
   },
   "source": [
    "## Keşifçi Veri Analizi | Becerileri Pekiştirme"
   ]
  },
  {
   "cell_type": "markdown",
   "id": "paperback-intention",
   "metadata": {
    "papermill": {
     "duration": 0.041121,
     "end_time": "2021-04-09T10:25:39.945710",
     "exception": false,
     "start_time": "2021-04-09T10:25:39.904589",
     "status": "completed"
    },
    "tags": []
   },
   "source": [
    "Aşağıda ihtiyacımız doğrultusunda kullanacağımız kütüphaneleri yükleyelim."
   ]
  },
  {
   "cell_type": "code",
   "execution_count": 1,
   "id": "exceptional-amino",
   "metadata": {
    "execution": {
     "iopub.execute_input": "2021-04-09T10:25:40.037197Z",
     "iopub.status.busy": "2021-04-09T10:25:40.035951Z",
     "iopub.status.idle": "2021-04-09T10:25:41.164829Z",
     "shell.execute_reply": "2021-04-09T10:25:41.163965Z"
    },
    "papermill": {
     "duration": 1.174619,
     "end_time": "2021-04-09T10:25:41.165040",
     "exception": false,
     "start_time": "2021-04-09T10:25:39.990421",
     "status": "completed"
    },
    "tags": []
   },
   "outputs": [],
   "source": [
    "import numpy as np\n",
    "import seaborn as sns\n",
    "import pandas as pd"
   ]
  },
  {
   "cell_type": "markdown",
   "id": "reduced-playlist",
   "metadata": {
    "papermill": {
     "duration": 0.041041,
     "end_time": "2021-04-09T10:25:41.247939",
     "exception": false,
     "start_time": "2021-04-09T10:25:41.206898",
     "status": "completed"
    },
    "tags": []
   },
   "source": [
    "Veri çerçevemizi bulunduğumuz dizinden yükleyelim ve bir veri çerçevesi haline getirerek df değişkenine atayalım. (pd.read_csv(...csv))"
   ]
  },
  {
   "cell_type": "code",
   "execution_count": 2,
   "id": "opened-patch",
   "metadata": {
    "execution": {
     "iopub.execute_input": "2021-04-09T10:25:41.336597Z",
     "iopub.status.busy": "2021-04-09T10:25:41.335795Z",
     "iopub.status.idle": "2021-04-09T10:25:41.356514Z",
     "shell.execute_reply": "2021-04-09T10:25:41.355894Z"
    },
    "papermill": {
     "duration": 0.06746,
     "end_time": "2021-04-09T10:25:41.356666",
     "exception": false,
     "start_time": "2021-04-09T10:25:41.289206",
     "status": "completed"
    },
    "tags": []
   },
   "outputs": [],
   "source": [
    "df = pd.read_csv('../input/iris-flower-dataset/IRIS.csv')"
   ]
  },
  {
   "cell_type": "markdown",
   "id": "southwest-investigator",
   "metadata": {
    "papermill": {
     "duration": 0.041734,
     "end_time": "2021-04-09T10:25:41.440906",
     "exception": false,
     "start_time": "2021-04-09T10:25:41.399172",
     "status": "completed"
    },
    "tags": []
   },
   "source": [
    "Veri çerçevesinin ilk 5 gözlemini görüntüleyelim."
   ]
  },
  {
   "cell_type": "code",
   "execution_count": 3,
   "id": "sporting-tissue",
   "metadata": {
    "execution": {
     "iopub.execute_input": "2021-04-09T10:25:41.540891Z",
     "iopub.status.busy": "2021-04-09T10:25:41.538931Z",
     "iopub.status.idle": "2021-04-09T10:25:41.565806Z",
     "shell.execute_reply": "2021-04-09T10:25:41.565125Z"
    },
    "papermill": {
     "duration": 0.083271,
     "end_time": "2021-04-09T10:25:41.565975",
     "exception": false,
     "start_time": "2021-04-09T10:25:41.482704",
     "status": "completed"
    },
    "tags": []
   },
   "outputs": [
    {
     "data": {
      "text/html": [
       "<div>\n",
       "<style scoped>\n",
       "    .dataframe tbody tr th:only-of-type {\n",
       "        vertical-align: middle;\n",
       "    }\n",
       "\n",
       "    .dataframe tbody tr th {\n",
       "        vertical-align: top;\n",
       "    }\n",
       "\n",
       "    .dataframe thead th {\n",
       "        text-align: right;\n",
       "    }\n",
       "</style>\n",
       "<table border=\"1\" class=\"dataframe\">\n",
       "  <thead>\n",
       "    <tr style=\"text-align: right;\">\n",
       "      <th></th>\n",
       "      <th>sepal_length</th>\n",
       "      <th>sepal_width</th>\n",
       "      <th>petal_length</th>\n",
       "      <th>petal_width</th>\n",
       "      <th>species</th>\n",
       "    </tr>\n",
       "  </thead>\n",
       "  <tbody>\n",
       "    <tr>\n",
       "      <th>0</th>\n",
       "      <td>5.1</td>\n",
       "      <td>3.5</td>\n",
       "      <td>1.4</td>\n",
       "      <td>0.2</td>\n",
       "      <td>Iris-setosa</td>\n",
       "    </tr>\n",
       "    <tr>\n",
       "      <th>1</th>\n",
       "      <td>4.9</td>\n",
       "      <td>3.0</td>\n",
       "      <td>1.4</td>\n",
       "      <td>0.2</td>\n",
       "      <td>Iris-setosa</td>\n",
       "    </tr>\n",
       "    <tr>\n",
       "      <th>2</th>\n",
       "      <td>4.7</td>\n",
       "      <td>3.2</td>\n",
       "      <td>1.3</td>\n",
       "      <td>0.2</td>\n",
       "      <td>Iris-setosa</td>\n",
       "    </tr>\n",
       "    <tr>\n",
       "      <th>3</th>\n",
       "      <td>4.6</td>\n",
       "      <td>3.1</td>\n",
       "      <td>1.5</td>\n",
       "      <td>0.2</td>\n",
       "      <td>Iris-setosa</td>\n",
       "    </tr>\n",
       "    <tr>\n",
       "      <th>4</th>\n",
       "      <td>5.0</td>\n",
       "      <td>3.6</td>\n",
       "      <td>1.4</td>\n",
       "      <td>0.2</td>\n",
       "      <td>Iris-setosa</td>\n",
       "    </tr>\n",
       "  </tbody>\n",
       "</table>\n",
       "</div>"
      ],
      "text/plain": [
       "   sepal_length  sepal_width  petal_length  petal_width      species\n",
       "0           5.1          3.5           1.4          0.2  Iris-setosa\n",
       "1           4.9          3.0           1.4          0.2  Iris-setosa\n",
       "2           4.7          3.2           1.3          0.2  Iris-setosa\n",
       "3           4.6          3.1           1.5          0.2  Iris-setosa\n",
       "4           5.0          3.6           1.4          0.2  Iris-setosa"
      ]
     },
     "execution_count": 3,
     "metadata": {},
     "output_type": "execute_result"
    }
   ],
   "source": [
    "df.head()"
   ]
  },
  {
   "cell_type": "markdown",
   "id": "provincial-airport",
   "metadata": {
    "papermill": {
     "duration": 0.044324,
     "end_time": "2021-04-09T10:25:41.653371",
     "exception": false,
     "start_time": "2021-04-09T10:25:41.609047",
     "status": "completed"
    },
    "tags": []
   },
   "source": [
    "Veri çerçevesinin kaç öznitelik ve kaç gözlemden oluştuğunu görüntüleyelim."
   ]
  },
  {
   "cell_type": "code",
   "execution_count": 4,
   "id": "widespread-quarter",
   "metadata": {
    "execution": {
     "iopub.execute_input": "2021-04-09T10:25:41.744271Z",
     "iopub.status.busy": "2021-04-09T10:25:41.743335Z",
     "iopub.status.idle": "2021-04-09T10:25:41.748752Z",
     "shell.execute_reply": "2021-04-09T10:25:41.748096Z"
    },
    "papermill": {
     "duration": 0.053162,
     "end_time": "2021-04-09T10:25:41.748943",
     "exception": false,
     "start_time": "2021-04-09T10:25:41.695781",
     "status": "completed"
    },
    "tags": []
   },
   "outputs": [
    {
     "data": {
      "text/plain": [
       "(150, 5)"
      ]
     },
     "execution_count": 4,
     "metadata": {},
     "output_type": "execute_result"
    }
   ],
   "source": [
    "df.shape"
   ]
  },
  {
   "cell_type": "markdown",
   "id": "convinced-chapter",
   "metadata": {
    "papermill": {
     "duration": 0.043777,
     "end_time": "2021-04-09T10:25:41.835903",
     "exception": false,
     "start_time": "2021-04-09T10:25:41.792126",
     "status": "completed"
    },
    "tags": []
   },
   "source": [
    "Veri çerçevesindeki değişkenlerin hangi tipte olduğunu ve bellek kullanımını görüntüleyelim."
   ]
  },
  {
   "cell_type": "code",
   "execution_count": 5,
   "id": "sunset-fence",
   "metadata": {
    "execution": {
     "iopub.execute_input": "2021-04-09T10:25:41.943430Z",
     "iopub.status.busy": "2021-04-09T10:25:41.942370Z",
     "iopub.status.idle": "2021-04-09T10:25:41.946852Z",
     "shell.execute_reply": "2021-04-09T10:25:41.946144Z"
    },
    "papermill": {
     "duration": 0.068206,
     "end_time": "2021-04-09T10:25:41.947015",
     "exception": false,
     "start_time": "2021-04-09T10:25:41.878809",
     "status": "completed"
    },
    "tags": []
   },
   "outputs": [
    {
     "name": "stdout",
     "output_type": "stream",
     "text": [
      "<class 'pandas.core.frame.DataFrame'>\n",
      "RangeIndex: 150 entries, 0 to 149\n",
      "Data columns (total 5 columns):\n",
      " #   Column        Non-Null Count  Dtype  \n",
      "---  ------        --------------  -----  \n",
      " 0   sepal_length  150 non-null    float64\n",
      " 1   sepal_width   150 non-null    float64\n",
      " 2   petal_length  150 non-null    float64\n",
      " 3   petal_width   150 non-null    float64\n",
      " 4   species       150 non-null    object \n",
      "dtypes: float64(4), object(1)\n",
      "memory usage: 6.0+ KB\n"
     ]
    }
   ],
   "source": [
    "df.info()"
   ]
  },
  {
   "cell_type": "markdown",
   "id": "acoustic-basics",
   "metadata": {
    "papermill": {
     "duration": 0.05849,
     "end_time": "2021-04-09T10:25:42.056823",
     "exception": false,
     "start_time": "2021-04-09T10:25:41.998333",
     "status": "completed"
    },
    "tags": []
   },
   "source": [
    "Veri çerçevesindeki sayısal değişkenler için temel istatistik değerlerini görüntüleyelim.\n",
    "\n",
    "Standart sapma ve ortalama değerlerden çıkarımda bulunarak hangi değişkenlerin ne kadar varyansa sahip olduğu hakkında fikir yürütelim."
   ]
  },
  {
   "cell_type": "code",
   "execution_count": 6,
   "id": "vanilla-diabetes",
   "metadata": {
    "execution": {
     "iopub.execute_input": "2021-04-09T10:25:42.163269Z",
     "iopub.status.busy": "2021-04-09T10:25:42.162537Z",
     "iopub.status.idle": "2021-04-09T10:25:42.189256Z",
     "shell.execute_reply": "2021-04-09T10:25:42.189930Z"
    },
    "papermill": {
     "duration": 0.079312,
     "end_time": "2021-04-09T10:25:42.190117",
     "exception": false,
     "start_time": "2021-04-09T10:25:42.110805",
     "status": "completed"
    },
    "tags": []
   },
   "outputs": [
    {
     "data": {
      "text/html": [
       "<div>\n",
       "<style scoped>\n",
       "    .dataframe tbody tr th:only-of-type {\n",
       "        vertical-align: middle;\n",
       "    }\n",
       "\n",
       "    .dataframe tbody tr th {\n",
       "        vertical-align: top;\n",
       "    }\n",
       "\n",
       "    .dataframe thead th {\n",
       "        text-align: right;\n",
       "    }\n",
       "</style>\n",
       "<table border=\"1\" class=\"dataframe\">\n",
       "  <thead>\n",
       "    <tr style=\"text-align: right;\">\n",
       "      <th></th>\n",
       "      <th>count</th>\n",
       "      <th>mean</th>\n",
       "      <th>std</th>\n",
       "      <th>min</th>\n",
       "      <th>25%</th>\n",
       "      <th>50%</th>\n",
       "      <th>75%</th>\n",
       "      <th>max</th>\n",
       "    </tr>\n",
       "  </thead>\n",
       "  <tbody>\n",
       "    <tr>\n",
       "      <th>sepal_length</th>\n",
       "      <td>150.0</td>\n",
       "      <td>5.843333</td>\n",
       "      <td>0.828066</td>\n",
       "      <td>4.3</td>\n",
       "      <td>5.1</td>\n",
       "      <td>5.80</td>\n",
       "      <td>6.4</td>\n",
       "      <td>7.9</td>\n",
       "    </tr>\n",
       "    <tr>\n",
       "      <th>sepal_width</th>\n",
       "      <td>150.0</td>\n",
       "      <td>3.054000</td>\n",
       "      <td>0.433594</td>\n",
       "      <td>2.0</td>\n",
       "      <td>2.8</td>\n",
       "      <td>3.00</td>\n",
       "      <td>3.3</td>\n",
       "      <td>4.4</td>\n",
       "    </tr>\n",
       "    <tr>\n",
       "      <th>petal_length</th>\n",
       "      <td>150.0</td>\n",
       "      <td>3.758667</td>\n",
       "      <td>1.764420</td>\n",
       "      <td>1.0</td>\n",
       "      <td>1.6</td>\n",
       "      <td>4.35</td>\n",
       "      <td>5.1</td>\n",
       "      <td>6.9</td>\n",
       "    </tr>\n",
       "    <tr>\n",
       "      <th>petal_width</th>\n",
       "      <td>150.0</td>\n",
       "      <td>1.198667</td>\n",
       "      <td>0.763161</td>\n",
       "      <td>0.1</td>\n",
       "      <td>0.3</td>\n",
       "      <td>1.30</td>\n",
       "      <td>1.8</td>\n",
       "      <td>2.5</td>\n",
       "    </tr>\n",
       "  </tbody>\n",
       "</table>\n",
       "</div>"
      ],
      "text/plain": [
       "              count      mean       std  min  25%   50%  75%  max\n",
       "sepal_length  150.0  5.843333  0.828066  4.3  5.1  5.80  6.4  7.9\n",
       "sepal_width   150.0  3.054000  0.433594  2.0  2.8  3.00  3.3  4.4\n",
       "petal_length  150.0  3.758667  1.764420  1.0  1.6  4.35  5.1  6.9\n",
       "petal_width   150.0  1.198667  0.763161  0.1  0.3  1.30  1.8  2.5"
      ]
     },
     "execution_count": 6,
     "metadata": {},
     "output_type": "execute_result"
    }
   ],
   "source": [
    "df.describe().T"
   ]
  },
  {
   "cell_type": "markdown",
   "id": "electrical-welding",
   "metadata": {
    "papermill": {
     "duration": 0.043529,
     "end_time": "2021-04-09T10:25:42.278529",
     "exception": false,
     "start_time": "2021-04-09T10:25:42.235000",
     "status": "completed"
    },
    "tags": []
   },
   "source": [
    "Veri çerçevesinde hangi öznitelikte kaç adet eksik değer olduğunu gözlemleyelim."
   ]
  },
  {
   "cell_type": "markdown",
   "id": "differential-funds",
   "metadata": {
    "papermill": {
     "duration": 0.044034,
     "end_time": "2021-04-09T10:25:42.366316",
     "exception": false,
     "start_time": "2021-04-09T10:25:42.322282",
     "status": "completed"
    },
    "tags": []
   },
   "source": [
    "→ Standart sapma ortalamadan olan asapmanın genel ölçüsüdür. Standart sapma ne kadar küçükse veriler ortalamaya yakın yerlerde dağılmışlardır, standart sapma  ne kadar büyükse veriler ortalamadan uzak yerlerde dağılmışlardır. \n",
    "→ Varyans standart sapmanın karesidir, dağılımın ne kadar değişkenlik içerdiğini gösterir.\n",
    "\n",
    "→Standart sapmaları incelediğimizde standart sapması en küçük olan değişken sepal_width değişkenidir verileri en düzgün dağılan değişkendir. Sırasıyla petal_width,sepal_length ve petal_length gelmektedir."
   ]
  },
  {
   "cell_type": "code",
   "execution_count": 7,
   "id": "substantial-projector",
   "metadata": {
    "execution": {
     "iopub.execute_input": "2021-04-09T10:25:42.461368Z",
     "iopub.status.busy": "2021-04-09T10:25:42.460454Z",
     "iopub.status.idle": "2021-04-09T10:25:42.465120Z",
     "shell.execute_reply": "2021-04-09T10:25:42.464453Z"
    },
    "papermill": {
     "duration": 0.055042,
     "end_time": "2021-04-09T10:25:42.465265",
     "exception": false,
     "start_time": "2021-04-09T10:25:42.410223",
     "status": "completed"
    },
    "tags": []
   },
   "outputs": [
    {
     "data": {
      "text/plain": [
       "False"
      ]
     },
     "execution_count": 7,
     "metadata": {},
     "output_type": "execute_result"
    }
   ],
   "source": [
    "df.isnull().values.any()"
   ]
  },
  {
   "cell_type": "code",
   "execution_count": 8,
   "id": "black-calculator",
   "metadata": {
    "execution": {
     "iopub.execute_input": "2021-04-09T10:25:42.563622Z",
     "iopub.status.busy": "2021-04-09T10:25:42.562569Z",
     "iopub.status.idle": "2021-04-09T10:25:42.567693Z",
     "shell.execute_reply": "2021-04-09T10:25:42.567032Z"
    },
    "papermill": {
     "duration": 0.057096,
     "end_time": "2021-04-09T10:25:42.567833",
     "exception": false,
     "start_time": "2021-04-09T10:25:42.510737",
     "status": "completed"
    },
    "tags": []
   },
   "outputs": [
    {
     "data": {
      "text/plain": [
       "sepal_length    0\n",
       "sepal_width     0\n",
       "petal_length    0\n",
       "petal_width     0\n",
       "species         0\n",
       "dtype: int64"
      ]
     },
     "execution_count": 8,
     "metadata": {},
     "output_type": "execute_result"
    }
   ],
   "source": [
    "df.isna().sum() "
   ]
  },
  {
   "cell_type": "markdown",
   "id": "cultural-housing",
   "metadata": {
    "papermill": {
     "duration": 0.045621,
     "end_time": "2021-04-09T10:25:42.658944",
     "exception": false,
     "start_time": "2021-04-09T10:25:42.613323",
     "status": "completed"
    },
    "tags": []
   },
   "source": [
    "Sayısal değişkenler arasında korelasyon olup olmadığını göstermek için korelasyon matrisi çizdirelim. Korelasyon katsayıları hakkında fikir yürütelim.\n",
    "\n",
    "En güçlü pozitif ilişki hangi iki değişken arasındadır?"
   ]
  },
  {
   "cell_type": "code",
   "execution_count": 9,
   "id": "racial-guitar",
   "metadata": {
    "execution": {
     "iopub.execute_input": "2021-04-09T10:25:42.766309Z",
     "iopub.status.busy": "2021-04-09T10:25:42.765587Z",
     "iopub.status.idle": "2021-04-09T10:25:42.770505Z",
     "shell.execute_reply": "2021-04-09T10:25:42.769696Z"
    },
    "papermill": {
     "duration": 0.063701,
     "end_time": "2021-04-09T10:25:42.770667",
     "exception": false,
     "start_time": "2021-04-09T10:25:42.706966",
     "status": "completed"
    },
    "tags": []
   },
   "outputs": [
    {
     "data": {
      "text/html": [
       "<div>\n",
       "<style scoped>\n",
       "    .dataframe tbody tr th:only-of-type {\n",
       "        vertical-align: middle;\n",
       "    }\n",
       "\n",
       "    .dataframe tbody tr th {\n",
       "        vertical-align: top;\n",
       "    }\n",
       "\n",
       "    .dataframe thead th {\n",
       "        text-align: right;\n",
       "    }\n",
       "</style>\n",
       "<table border=\"1\" class=\"dataframe\">\n",
       "  <thead>\n",
       "    <tr style=\"text-align: right;\">\n",
       "      <th></th>\n",
       "      <th>sepal_length</th>\n",
       "      <th>sepal_width</th>\n",
       "      <th>petal_length</th>\n",
       "      <th>petal_width</th>\n",
       "    </tr>\n",
       "  </thead>\n",
       "  <tbody>\n",
       "    <tr>\n",
       "      <th>sepal_length</th>\n",
       "      <td>1.000000</td>\n",
       "      <td>-0.109369</td>\n",
       "      <td>0.871754</td>\n",
       "      <td>0.817954</td>\n",
       "    </tr>\n",
       "    <tr>\n",
       "      <th>sepal_width</th>\n",
       "      <td>-0.109369</td>\n",
       "      <td>1.000000</td>\n",
       "      <td>-0.420516</td>\n",
       "      <td>-0.356544</td>\n",
       "    </tr>\n",
       "    <tr>\n",
       "      <th>petal_length</th>\n",
       "      <td>0.871754</td>\n",
       "      <td>-0.420516</td>\n",
       "      <td>1.000000</td>\n",
       "      <td>0.962757</td>\n",
       "    </tr>\n",
       "    <tr>\n",
       "      <th>petal_width</th>\n",
       "      <td>0.817954</td>\n",
       "      <td>-0.356544</td>\n",
       "      <td>0.962757</td>\n",
       "      <td>1.000000</td>\n",
       "    </tr>\n",
       "  </tbody>\n",
       "</table>\n",
       "</div>"
      ],
      "text/plain": [
       "              sepal_length  sepal_width  petal_length  petal_width\n",
       "sepal_length      1.000000    -0.109369      0.871754     0.817954\n",
       "sepal_width      -0.109369     1.000000     -0.420516    -0.356544\n",
       "petal_length      0.871754    -0.420516      1.000000     0.962757\n",
       "petal_width       0.817954    -0.356544      0.962757     1.000000"
      ]
     },
     "execution_count": 9,
     "metadata": {},
     "output_type": "execute_result"
    }
   ],
   "source": [
    "corr = df.corr()\n",
    "corr"
   ]
  },
  {
   "cell_type": "markdown",
   "id": "atlantic-tower",
   "metadata": {
    "papermill": {
     "duration": 0.047461,
     "end_time": "2021-04-09T10:25:42.864086",
     "exception": false,
     "start_time": "2021-04-09T10:25:42.816625",
     "status": "completed"
    },
    "tags": []
   },
   "source": [
    "→ Korelasyon (ilişki), iki değişkenin birlikte değişiminin bir ölçüsüdür. Korelasyon katsayısı -1 ve 1 arasında değer alır. Korelasyonun büyüklüğü (0-1) iki değişken arasındaki ilişkinin gücünü gösterirken işareti (+,-) değişkenlerin aynı yönde (+) artıp azaldığını ya da zıt yönlerde (-) artış ve azalış gösterdiğini belirtir. Değişkenler birlikte artıyor veya azalıyorsa pozitif yönde, değişkenlerden biri artarken diğeri azalıyorsa ise negatif yönde bir ilişki vardır.\n",
    "\n",
    "→Korelasyon matrisine baktığımızda en güçlü pozitif ilişki, 0.962865 değerini gösteren petal_length ve petal_width arasındadır."
   ]
  },
  {
   "cell_type": "markdown",
   "id": "rational-andrews",
   "metadata": {
    "papermill": {
     "duration": 0.045223,
     "end_time": "2021-04-09T10:25:42.955951",
     "exception": false,
     "start_time": "2021-04-09T10:25:42.910728",
     "status": "completed"
    },
    "tags": []
   },
   "source": [
    "Korelasyon katsayılarını daha iyi okuyabilmek için ısı haritası çizdirelim."
   ]
  },
  {
   "cell_type": "code",
   "execution_count": 10,
   "id": "capital-perception",
   "metadata": {
    "execution": {
     "iopub.execute_input": "2021-04-09T10:25:43.066815Z",
     "iopub.status.busy": "2021-04-09T10:25:43.051570Z",
     "iopub.status.idle": "2021-04-09T10:25:43.311345Z",
     "shell.execute_reply": "2021-04-09T10:25:43.310237Z"
    },
    "papermill": {
     "duration": 0.310099,
     "end_time": "2021-04-09T10:25:43.311500",
     "exception": false,
     "start_time": "2021-04-09T10:25:43.001401",
     "status": "completed"
    },
    "tags": []
   },
   "outputs": [
    {
     "data": {
      "image/png": "[encoded data removed]",
      "text/plain": [
       "<Figure size 432x288 with 2 Axes>"
      ]
     },
     "metadata": {
      "needs_background": "light"
     },
     "output_type": "display_data"
    }
   ],
   "source": [
    "corr = df.corr()\n",
    "sns.heatmap(corr,\n",
    "           xticklabels=corr.columns.values,\n",
    "           yticklabels=corr.columns.values);"
   ]
  },
  {
   "cell_type": "markdown",
   "id": "inside-survivor",
   "metadata": {
    "papermill": {
     "duration": 0.045541,
     "end_time": "2021-04-09T10:25:43.403634",
     "exception": false,
     "start_time": "2021-04-09T10:25:43.358093",
     "status": "completed"
    },
    "tags": []
   },
   "source": [
    "Veri çerçevemizin hedef değişkeninin \"variety\" benzersiz değerlerini görüntüleyelim."
   ]
  },
  {
   "cell_type": "code",
   "execution_count": 11,
   "id": "canadian-assist",
   "metadata": {
    "execution": {
     "iopub.execute_input": "2021-04-09T10:25:43.504294Z",
     "iopub.status.busy": "2021-04-09T10:25:43.503581Z",
     "iopub.status.idle": "2021-04-09T10:25:43.508039Z",
     "shell.execute_reply": "2021-04-09T10:25:43.507486Z"
    },
    "papermill": {
     "duration": 0.056805,
     "end_time": "2021-04-09T10:25:43.508197",
     "exception": false,
     "start_time": "2021-04-09T10:25:43.451392",
     "status": "completed"
    },
    "tags": []
   },
   "outputs": [
    {
     "data": {
      "text/plain": [
       "array(['Iris-setosa', 'Iris-versicolor', 'Iris-virginica'], dtype=object)"
      ]
     },
     "execution_count": 11,
     "metadata": {},
     "output_type": "execute_result"
    }
   ],
   "source": [
    "df[\"species\"].unique()"
   ]
  },
  {
   "cell_type": "markdown",
   "id": "allied-ethics",
   "metadata": {
    "papermill": {
     "duration": 0.046972,
     "end_time": "2021-04-09T10:25:43.601998",
     "exception": false,
     "start_time": "2021-04-09T10:25:43.555026",
     "status": "completed"
    },
    "tags": []
   },
   "source": [
    "Veri çerçevemizin hedef değişkeninin \"variety\" benzersiz kaç adet değer içerdiğini görüntüleyelim."
   ]
  },
  {
   "cell_type": "code",
   "execution_count": 12,
   "id": "worth-campbell",
   "metadata": {
    "execution": {
     "iopub.execute_input": "2021-04-09T10:25:43.703600Z",
     "iopub.status.busy": "2021-04-09T10:25:43.702553Z",
     "iopub.status.idle": "2021-04-09T10:25:43.707455Z",
     "shell.execute_reply": "2021-04-09T10:25:43.706745Z"
    },
    "papermill": {
     "duration": 0.057874,
     "end_time": "2021-04-09T10:25:43.707599",
     "exception": false,
     "start_time": "2021-04-09T10:25:43.649725",
     "status": "completed"
    },
    "tags": []
   },
   "outputs": [
    {
     "data": {
      "text/plain": [
       "3"
      ]
     },
     "execution_count": 12,
     "metadata": {},
     "output_type": "execute_result"
    }
   ],
   "source": [
    "df[\"species\"].nunique()"
   ]
  },
  {
   "cell_type": "markdown",
   "id": "external-password",
   "metadata": {
    "papermill": {
     "duration": 0.047888,
     "end_time": "2021-04-09T10:25:43.802552",
     "exception": false,
     "start_time": "2021-04-09T10:25:43.754664",
     "status": "completed"
    },
    "tags": []
   },
   "source": [
    "Veri çerçevesindeki sepal.width ve sepal.length değişkenlerinin sürekli olduğunu görüyoruz. Bu iki sürekli veriyi görselleştirmek için önce scatterplot kullanalım."
   ]
  },
  {
   "cell_type": "code",
   "execution_count": 13,
   "id": "bronze-vancouver",
   "metadata": {
    "execution": {
     "iopub.execute_input": "2021-04-09T10:25:43.932086Z",
     "iopub.status.busy": "2021-04-09T10:25:43.931310Z",
     "iopub.status.idle": "2021-04-09T10:25:44.110512Z",
     "shell.execute_reply": "2021-04-09T10:25:44.111023Z"
    },
    "papermill": {
     "duration": 0.261488,
     "end_time": "2021-04-09T10:25:44.111218",
     "exception": false,
     "start_time": "2021-04-09T10:25:43.849730",
     "status": "completed"
    },
    "tags": []
   },
   "outputs": [
    {
     "data": {
      "image/png": "[encoded data removed]",
      "text/plain": [
       "<Figure size 432x288 with 1 Axes>"
      ]
     },
     "metadata": {
      "needs_background": "light"
     },
     "output_type": "display_data"
    }
   ],
   "source": [
    "sns.scatterplot(x = \"sepal_width\", y = \"sepal_length\", data = df, color=\"blue\");"
   ]
  },
  {
   "cell_type": "markdown",
   "id": "forced-vault",
   "metadata": {
    "papermill": {
     "duration": 0.047619,
     "end_time": "2021-04-09T10:25:44.206990",
     "exception": false,
     "start_time": "2021-04-09T10:25:44.159371",
     "status": "completed"
    },
    "tags": []
   },
   "source": [
    "Aynı iki veriyi daha farklı bir açıdan frekanslarıyla incelemek için jointplot kullanarak görselleştirelim. "
   ]
  },
  {
   "cell_type": "code",
   "execution_count": 14,
   "id": "resident-glass",
   "metadata": {
    "execution": {
     "iopub.execute_input": "2021-04-09T10:25:44.349701Z",
     "iopub.status.busy": "2021-04-09T10:25:44.332905Z",
     "iopub.status.idle": "2021-04-09T10:25:44.797616Z",
     "shell.execute_reply": "2021-04-09T10:25:44.798242Z"
    },
    "papermill": {
     "duration": 0.541754,
     "end_time": "2021-04-09T10:25:44.798428",
     "exception": false,
     "start_time": "2021-04-09T10:25:44.256674",
     "status": "completed"
    },
    "tags": []
   },
   "outputs": [
    {
     "data": {
      "image/png": "[encoded data removed]",
      "text/plain": [
       "<Figure size 432x432 with 3 Axes>"
      ]
     },
     "metadata": {
      "needs_background": "light"
     },
     "output_type": "display_data"
    }
   ],
   "source": [
    "sns.jointplot(x = \"sepal_width\", y = \"sepal_length\", data = df, color = \"blue\");"
   ]
  },
  {
   "cell_type": "markdown",
   "id": "light-florist",
   "metadata": {
    "papermill": {
     "duration": 0.049123,
     "end_time": "2021-04-09T10:25:44.897162",
     "exception": false,
     "start_time": "2021-04-09T10:25:44.848039",
     "status": "completed"
    },
    "tags": []
   },
   "source": [
    "Aynı iki veriyi scatterplot ile tekrardan görselleştirelim fakat bu sefer \"species\" parametresi ile hedef değişkenine göre kırdıralım. \n",
    "\n",
    "3 farklı renk arasında sepal değişkenleriyle bir kümeleme yapılabilir mi? Ne kadar ayırt edilebilir bunun üzerine düşünelim."
   ]
  },
  {
   "cell_type": "code",
   "execution_count": 15,
   "id": "commercial-saudi",
   "metadata": {
    "execution": {
     "iopub.execute_input": "2021-04-09T10:25:45.036996Z",
     "iopub.status.busy": "2021-04-09T10:25:45.029915Z",
     "iopub.status.idle": "2021-04-09T10:25:45.279920Z",
     "shell.execute_reply": "2021-04-09T10:25:45.279189Z"
    },
    "papermill": {
     "duration": 0.333492,
     "end_time": "2021-04-09T10:25:45.280073",
     "exception": false,
     "start_time": "2021-04-09T10:25:44.946581",
     "status": "completed"
    },
    "tags": []
   },
   "outputs": [
    {
     "data": {
      "image/png": "[encoded data removed]",
      "text/plain": [
       "<Figure size 432x288 with 1 Axes>"
      ]
     },
     "metadata": {
      "needs_background": "light"
     },
     "output_type": "display_data"
    }
   ],
   "source": [
    "sns.scatterplot(x = \"sepal_width\", y = \"sepal_length\", hue = \"species\", data=df);"
   ]
  },
  {
   "cell_type": "markdown",
   "id": "cardiac-vertical",
   "metadata": {
    "papermill": {
     "duration": 0.050504,
     "end_time": "2021-04-09T10:25:45.381581",
     "exception": false,
     "start_time": "2021-04-09T10:25:45.331077",
     "status": "completed"
    },
    "tags": []
   },
   "source": [
    "→ sepal değişkenleriyle kümeleme yapılabilir ve kümelemeyle türler ayırt edilebilir."
   ]
  },
  {
   "cell_type": "markdown",
   "id": "raised-favor",
   "metadata": {
    "papermill": {
     "duration": 0.050802,
     "end_time": "2021-04-09T10:25:45.483116",
     "exception": false,
     "start_time": "2021-04-09T10:25:45.432314",
     "status": "completed"
    },
    "tags": []
   },
   "source": [
    "value_counts() fonksiyonu ile veri çerçevemizin ne kadar dengeli dağıldığını sorgulayalım. "
   ]
  },
  {
   "cell_type": "code",
   "execution_count": 16,
   "id": "higher-duplicate",
   "metadata": {
    "execution": {
     "iopub.execute_input": "2021-04-09T10:25:45.594144Z",
     "iopub.status.busy": "2021-04-09T10:25:45.593002Z",
     "iopub.status.idle": "2021-04-09T10:25:45.598133Z",
     "shell.execute_reply": "2021-04-09T10:25:45.597576Z"
    },
    "papermill": {
     "duration": 0.064013,
     "end_time": "2021-04-09T10:25:45.598289",
     "exception": false,
     "start_time": "2021-04-09T10:25:45.534276",
     "status": "completed"
    },
    "tags": []
   },
   "outputs": [
    {
     "data": {
      "text/plain": [
       "Iris-setosa        50\n",
       "Iris-virginica     50\n",
       "Iris-versicolor    50\n",
       "Name: species, dtype: int64"
      ]
     },
     "execution_count": 16,
     "metadata": {},
     "output_type": "execute_result"
    }
   ],
   "source": [
    "df[\"species\"].value_counts()"
   ]
  },
  {
   "cell_type": "markdown",
   "id": "statutory-ranch",
   "metadata": {
    "papermill": {
     "duration": 0.051189,
     "end_time": "2021-04-09T10:25:45.702092",
     "exception": false,
     "start_time": "2021-04-09T10:25:45.650903",
     "status": "completed"
    },
    "tags": []
   },
   "source": [
    "→ Her çiçek türünün 50 adet gözlem barındırdığını görüyoruz. Bundan dolayı dengeli bir dağılım olduğunu söyleyebiliriz."
   ]
  },
  {
   "cell_type": "markdown",
   "id": "burning-remainder",
   "metadata": {
    "papermill": {
     "duration": 0.051775,
     "end_time": "2021-04-09T10:25:45.805319",
     "exception": false,
     "start_time": "2021-04-09T10:25:45.753544",
     "status": "completed"
    },
    "tags": []
   },
   "source": [
    "Keman grafiği çizdirerek sepal.width değişkeninin dağılımını inceleyin. \n",
    "\n",
    "Söz konusu dağılım bizim için ne ifade ediyor, normal bir dağılım olduğunu söyleyebilir miyiz?"
   ]
  },
  {
   "cell_type": "code",
   "execution_count": 17,
   "id": "homeless-spyware",
   "metadata": {
    "execution": {
     "iopub.execute_input": "2021-04-09T10:25:45.944348Z",
     "iopub.status.busy": "2021-04-09T10:25:45.930919Z",
     "iopub.status.idle": "2021-04-09T10:25:46.050637Z",
     "shell.execute_reply": "2021-04-09T10:25:46.050002Z"
    },
    "papermill": {
     "duration": 0.19332,
     "end_time": "2021-04-09T10:25:46.050791",
     "exception": false,
     "start_time": "2021-04-09T10:25:45.857471",
     "status": "completed"
    },
    "tags": []
   },
   "outputs": [
    {
     "data": {
      "image/png": "[encoded data removed]",
      "text/plain": [
       "<Figure size 432x288 with 1 Axes>"
      ]
     },
     "metadata": {
      "needs_background": "light"
     },
     "output_type": "display_data"
    }
   ],
   "source": [
    "sns.violinplot(y = \"sepal_width\", data = df, color = \"blue\");"
   ]
  },
  {
   "cell_type": "markdown",
   "id": "narrative-precipitation",
   "metadata": {
    "papermill": {
     "duration": 0.052129,
     "end_time": "2021-04-09T10:25:46.157130",
     "exception": false,
     "start_time": "2021-04-09T10:25:46.105001",
     "status": "completed"
    },
    "tags": []
   },
   "source": [
    "Daha iyi anlayabilmek için sepal.width üzerine bir distplot çizdirelim."
   ]
  },
  {
   "cell_type": "code",
   "execution_count": 18,
   "id": "desirable-skiing",
   "metadata": {
    "execution": {
     "iopub.execute_input": "2021-04-09T10:25:46.267627Z",
     "iopub.status.busy": "2021-04-09T10:25:46.266757Z",
     "iopub.status.idle": "2021-04-09T10:25:46.470489Z",
     "shell.execute_reply": "2021-04-09T10:25:46.471327Z"
    },
    "papermill": {
     "duration": 0.262128,
     "end_time": "2021-04-09T10:25:46.471582",
     "exception": false,
     "start_time": "2021-04-09T10:25:46.209454",
     "status": "completed"
    },
    "tags": []
   },
   "outputs": [
    {
     "name": "stderr",
     "output_type": "stream",
     "text": [
      "/opt/conda/lib/python3.7/site-packages/seaborn/distributions.py:2557: FutureWarning: `distplot` is a deprecated function and will be removed in a future version. Please adapt your code to use either `displot` (a figure-level function with similar flexibility) or `histplot` (an axes-level function for histograms).\n",
      "  warnings.warn(msg, FutureWarning)\n"
     ]
    },
    {
     "data": {
      "image/png": "[encoded data removed]",
      "text/plain": [
       "<Figure size 432x288 with 1 Axes>"
      ]
     },
     "metadata": {
      "needs_background": "light"
     },
     "output_type": "display_data"
    }
   ],
   "source": [
    "sns.distplot(df[\"sepal_width\"], bins = 16, color = \"blue\");"
   ]
  },
  {
   "cell_type": "markdown",
   "id": "ranking-scholar",
   "metadata": {
    "papermill": {
     "duration": 0.053075,
     "end_time": "2021-04-09T10:25:46.578921",
     "exception": false,
     "start_time": "2021-04-09T10:25:46.525846",
     "status": "completed"
    },
    "tags": []
   },
   "source": [
    "Üç çiçek türü için üç farklı keman grafiğini sepal.length değişkeninin dağılımı üzerine tek bir satır ile görselleştirelim."
   ]
  },
  {
   "cell_type": "code",
   "execution_count": 19,
   "id": "lesser-proof",
   "metadata": {
    "execution": {
     "iopub.execute_input": "2021-04-09T10:25:46.721755Z",
     "iopub.status.busy": "2021-04-09T10:25:46.698538Z",
     "iopub.status.idle": "2021-04-09T10:25:46.869045Z",
     "shell.execute_reply": "2021-04-09T10:25:46.868460Z"
    },
    "papermill": {
     "duration": 0.236944,
     "end_time": "2021-04-09T10:25:46.869190",
     "exception": false,
     "start_time": "2021-04-09T10:25:46.632246",
     "status": "completed"
    },
    "tags": []
   },
   "outputs": [
    {
     "data": {
      "image/png": "[encoded data removed]",
      "text/plain": [
       "<Figure size 432x288 with 1 Axes>"
      ]
     },
     "metadata": {
      "needs_background": "light"
     },
     "output_type": "display_data"
    }
   ],
   "source": [
    "sns.violinplot(x = \"species\", y = \"sepal_length\", data = df);"
   ]
  },
  {
   "cell_type": "markdown",
   "id": "statutory-penetration",
   "metadata": {
    "papermill": {
     "duration": 0.054469,
     "end_time": "2021-04-09T10:25:46.978740",
     "exception": false,
     "start_time": "2021-04-09T10:25:46.924271",
     "status": "completed"
    },
    "tags": []
   },
   "source": [
    "→ Görüldüğü üzere veri çerçevemiz her çiçek türünden 50 adet gözlem barındırıyor."
   ]
  },
  {
   "cell_type": "markdown",
   "id": "nutritional-evolution",
   "metadata": {
    "papermill": {
     "duration": 0.05588,
     "end_time": "2021-04-09T10:25:47.089670",
     "exception": false,
     "start_time": "2021-04-09T10:25:47.033790",
     "status": "completed"
    },
    "tags": []
   },
   "source": [
    "Hangi çiçek türünden kaçar adet gözlem barındırıyor veri çerçevemiz?\n",
    "\n",
    "50 x 3 olduğunu ve dengeli olduğunu value_counts ile zaten görmüştük, ancak bunu görsel olarak ifade etmek için sns.countplot() fonksiyonuna species parametresini vereilm."
   ]
  },
  {
   "cell_type": "code",
   "execution_count": 20,
   "id": "resident-absolute",
   "metadata": {
    "execution": {
     "iopub.execute_input": "2021-04-09T10:25:47.226769Z",
     "iopub.status.busy": "2021-04-09T10:25:47.225984Z",
     "iopub.status.idle": "2021-04-09T10:25:47.328535Z",
     "shell.execute_reply": "2021-04-09T10:25:47.327919Z"
    },
    "papermill": {
     "duration": 0.183737,
     "end_time": "2021-04-09T10:25:47.328681",
     "exception": false,
     "start_time": "2021-04-09T10:25:47.144944",
     "status": "completed"
    },
    "tags": []
   },
   "outputs": [
    {
     "data": {
      "image/png": "[encoded data removed]",
      "text/plain": [
       "<Figure size 432x288 with 1 Axes>"
      ]
     },
     "metadata": {
      "needs_background": "light"
     },
     "output_type": "display_data"
    }
   ],
   "source": [
    "sns.countplot(x = \"species\", data = df);"
   ]
  },
  {
   "cell_type": "markdown",
   "id": "professional-entrance",
   "metadata": {
    "papermill": {
     "duration": 0.05521,
     "end_time": "2021-04-09T10:25:47.439635",
     "exception": false,
     "start_time": "2021-04-09T10:25:47.384425",
     "status": "completed"
    },
    "tags": []
   },
   "source": [
    "sepal.length ve sepal.width değişkenlerini sns.jointplot ile görselleştirelim, dağılımı ve dağılımın frekansı yüksek olduğu bölgelerini inceleyelim."
   ]
  },
  {
   "cell_type": "code",
   "execution_count": 21,
   "id": "sacred-blackjack",
   "metadata": {
    "execution": {
     "iopub.execute_input": "2021-04-09T10:25:47.573712Z",
     "iopub.status.busy": "2021-04-09T10:25:47.573047Z",
     "iopub.status.idle": "2021-04-09T10:25:48.152533Z",
     "shell.execute_reply": "2021-04-09T10:25:48.151802Z"
    },
    "papermill": {
     "duration": 0.657641,
     "end_time": "2021-04-09T10:25:48.152685",
     "exception": false,
     "start_time": "2021-04-09T10:25:47.495044",
     "status": "completed"
    },
    "tags": []
   },
   "outputs": [
    {
     "data": {
      "image/png": "[encoded data removed]",
      "text/plain": [
       "<Figure size 432x432 with 3 Axes>"
      ]
     },
     "metadata": {
      "needs_background": "light"
     },
     "output_type": "display_data"
    }
   ],
   "source": [
    "sns.jointplot(x = \"sepal_length\", y = \"sepal_width\", data = df, color = \"blue\");"
   ]
  },
  {
   "cell_type": "markdown",
   "id": "supreme-playlist",
   "metadata": {
    "papermill": {
     "duration": 0.056103,
     "end_time": "2021-04-09T10:25:48.265553",
     "exception": false,
     "start_time": "2021-04-09T10:25:48.209450",
     "status": "completed"
    },
    "tags": []
   },
   "source": [
    "→ sepal_length için 5.5 ve 6.5 arasında, sepal_width için 2.75 ve 3.25 arasında dağılım frekansının yüksek olduğunu söyleyebiliriz."
   ]
  },
  {
   "cell_type": "markdown",
   "id": "relevant-profile",
   "metadata": {
    "papermill": {
     "duration": 0.056832,
     "end_time": "2021-04-09T10:25:48.380244",
     "exception": false,
     "start_time": "2021-04-09T10:25:48.323412",
     "status": "completed"
    },
    "tags": []
   },
   "source": [
    "Bir önceki hücrede yapmış olduğumuz görselleştirmeye kind = \"kde\" parametresini ekleyelim. Böylelikle dağılımın noktalı gösterimden çıkıp yoğunluk odaklı bir görselleştirmeye dönüştüğünü görmüş olacağız."
   ]
  },
  {
   "cell_type": "code",
   "execution_count": 22,
   "id": "separate-marsh",
   "metadata": {
    "execution": {
     "iopub.execute_input": "2021-04-09T10:25:48.518062Z",
     "iopub.status.busy": "2021-04-09T10:25:48.516934Z",
     "iopub.status.idle": "2021-04-09T10:25:49.079476Z",
     "shell.execute_reply": "2021-04-09T10:25:49.078651Z"
    },
    "papermill": {
     "duration": 0.642343,
     "end_time": "2021-04-09T10:25:49.079629",
     "exception": false,
     "start_time": "2021-04-09T10:25:48.437286",
     "status": "completed"
    },
    "tags": []
   },
   "outputs": [
    {
     "data": {
      "image/png": "[encoded data removed]",
      "text/plain": [
       "<Figure size 432x432 with 3 Axes>"
      ]
     },
     "metadata": {
      "needs_background": "light"
     },
     "output_type": "display_data"
    }
   ],
   "source": [
    "sns.jointplot(x = df[\"sepal_length\"], y = df[\"sepal_width\"],kind =\"kde\", shade = \"True\", color = \"blue\");"
   ]
  },
  {
   "cell_type": "markdown",
   "id": "romance-philosophy",
   "metadata": {
    "papermill": {
     "duration": 0.057525,
     "end_time": "2021-04-09T10:25:49.195785",
     "exception": false,
     "start_time": "2021-04-09T10:25:49.138260",
     "status": "completed"
    },
    "tags": []
   },
   "source": [
    "scatterplot ile petal.length ve petal.width değişkenlerinin dağılımlarını çizdirelim."
   ]
  },
  {
   "cell_type": "code",
   "execution_count": 23,
   "id": "median-driving",
   "metadata": {
    "execution": {
     "iopub.execute_input": "2021-04-09T10:25:49.339236Z",
     "iopub.status.busy": "2021-04-09T10:25:49.338376Z",
     "iopub.status.idle": "2021-04-09T10:25:49.480128Z",
     "shell.execute_reply": "2021-04-09T10:25:49.480604Z"
    },
    "papermill": {
     "duration": 0.226867,
     "end_time": "2021-04-09T10:25:49.480800",
     "exception": false,
     "start_time": "2021-04-09T10:25:49.253933",
     "status": "completed"
    },
    "tags": []
   },
   "outputs": [
    {
     "data": {
      "image/png": "[encoded data removed]",
      "text/plain": [
       "<Figure size 432x288 with 1 Axes>"
      ]
     },
     "metadata": {
      "needs_background": "light"
     },
     "output_type": "display_data"
    }
   ],
   "source": [
    "sns.scatterplot(x = \"petal_length\", y = \"petal_width\", data = df);"
   ]
  },
  {
   "cell_type": "markdown",
   "id": "outdoor-causing",
   "metadata": {
    "papermill": {
     "duration": 0.060353,
     "end_time": "2021-04-09T10:25:49.600346",
     "exception": false,
     "start_time": "2021-04-09T10:25:49.539993",
     "status": "completed"
    },
    "tags": []
   },
   "source": [
    "Aynı görselleştirmeye hue = \"species\" parametresini ekleyerek 3. bir boyut verelim."
   ]
  },
  {
   "cell_type": "code",
   "execution_count": 24,
   "id": "senior-tobacco",
   "metadata": {
    "execution": {
     "iopub.execute_input": "2021-04-09T10:25:49.768329Z",
     "iopub.status.busy": "2021-04-09T10:25:49.762579Z",
     "iopub.status.idle": "2021-04-09T10:25:49.986118Z",
     "shell.execute_reply": "2021-04-09T10:25:49.982499Z"
    },
    "papermill": {
     "duration": 0.326165,
     "end_time": "2021-04-09T10:25:49.986374",
     "exception": false,
     "start_time": "2021-04-09T10:25:49.660209",
     "status": "completed"
    },
    "tags": []
   },
   "outputs": [
    {
     "data": {
      "image/png": "[encoded data removed]",
      "text/plain": [
       "<Figure size 432x288 with 1 Axes>"
      ]
     },
     "metadata": {
      "needs_background": "light"
     },
     "output_type": "display_data"
    }
   ],
   "source": [
    "sns.scatterplot(x = \"petal_length\", y = \"petal_width\",hue = \"species\", data = df);"
   ]
  },
  {
   "cell_type": "markdown",
   "id": "finnish-directory",
   "metadata": {
    "papermill": {
     "duration": 0.075891,
     "end_time": "2021-04-09T10:25:50.124965",
     "exception": false,
     "start_time": "2021-04-09T10:25:50.049074",
     "status": "completed"
    },
    "tags": []
   },
   "source": [
    "sns.lmplot() görselleştirmesini petal.length ve petal.width değişkenleriyle implemente edelim. Petal length ile petal width arasında ne tür bir ilişki var ve bu ilişki güçlü müdür? sorusunu yanıtlayalım."
   ]
  },
  {
   "cell_type": "code",
   "execution_count": 25,
   "id": "bulgarian-disposition",
   "metadata": {
    "execution": {
     "iopub.execute_input": "2021-04-09T10:25:50.304937Z",
     "iopub.status.busy": "2021-04-09T10:25:50.290206Z",
     "iopub.status.idle": "2021-04-09T10:25:50.677365Z",
     "shell.execute_reply": "2021-04-09T10:25:50.676223Z"
    },
    "papermill": {
     "duration": 0.486188,
     "end_time": "2021-04-09T10:25:50.677527",
     "exception": false,
     "start_time": "2021-04-09T10:25:50.191339",
     "status": "completed"
    },
    "tags": []
   },
   "outputs": [
    {
     "data": {
      "image/png": "[encoded data removed]",
      "text/plain": [
       "<Figure size 360x360 with 1 Axes>"
      ]
     },
     "metadata": {
      "needs_background": "light"
     },
     "output_type": "display_data"
    }
   ],
   "source": [
    "sns.lmplot(x = \"petal_length\", y = \"petal_width\", data = df);"
   ]
  },
  {
   "cell_type": "markdown",
   "id": "experimental-defensive",
   "metadata": {
    "papermill": {
     "duration": 0.062766,
     "end_time": "2021-04-09T10:25:50.803992",
     "exception": false,
     "start_time": "2021-04-09T10:25:50.741226",
     "status": "completed"
    },
    "tags": []
   },
   "source": [
    "→ Değişkenler birlikte artış gösteriyor. petal_length ve petal_width arasında pozitif yönde,güçlü bir ilişki vardır"
   ]
  },
  {
   "cell_type": "markdown",
   "id": "breeding-double",
   "metadata": {
    "papermill": {
     "duration": 0.066738,
     "end_time": "2021-04-09T10:25:50.934326",
     "exception": false,
     "start_time": "2021-04-09T10:25:50.867588",
     "status": "completed"
    },
    "tags": []
   },
   "source": [
    "Bu sorunun yanıtını pekiştirmek için iki değişken arasında korelasyon katsayısını yazdıralım. "
   ]
  },
  {
   "cell_type": "code",
   "execution_count": 26,
   "id": "killing-crash",
   "metadata": {
    "execution": {
     "iopub.execute_input": "2021-04-09T10:25:51.065705Z",
     "iopub.status.busy": "2021-04-09T10:25:51.064653Z",
     "iopub.status.idle": "2021-04-09T10:25:51.069722Z",
     "shell.execute_reply": "2021-04-09T10:25:51.069147Z"
    },
    "papermill": {
     "duration": 0.072769,
     "end_time": "2021-04-09T10:25:51.069877",
     "exception": false,
     "start_time": "2021-04-09T10:25:50.997108",
     "status": "completed"
    },
    "tags": []
   },
   "outputs": [
    {
     "data": {
      "text/plain": [
       "0.9627570970509662"
      ]
     },
     "execution_count": 26,
     "metadata": {},
     "output_type": "execute_result"
    }
   ],
   "source": [
    "df.corr()[\"petal_length\"][\"petal_width\"]"
   ]
  },
  {
   "cell_type": "markdown",
   "id": "divided-wealth",
   "metadata": {
    "papermill": {
     "duration": 0.06149,
     "end_time": "2021-04-09T10:25:51.194447",
     "exception": false,
     "start_time": "2021-04-09T10:25:51.132957",
     "status": "completed"
    },
    "tags": []
   },
   "source": [
    "Petal Length ile Sepal Length değerlerini toplayarak yeni bir total length özniteliği oluşturalım."
   ]
  },
  {
   "cell_type": "code",
   "execution_count": 27,
   "id": "underlying-offer",
   "metadata": {
    "execution": {
     "iopub.execute_input": "2021-04-09T10:25:51.325616Z",
     "iopub.status.busy": "2021-04-09T10:25:51.324564Z",
     "iopub.status.idle": "2021-04-09T10:25:51.328733Z",
     "shell.execute_reply": "2021-04-09T10:25:51.327926Z"
    },
    "papermill": {
     "duration": 0.072574,
     "end_time": "2021-04-09T10:25:51.328908",
     "exception": false,
     "start_time": "2021-04-09T10:25:51.256334",
     "status": "completed"
    },
    "tags": []
   },
   "outputs": [],
   "source": [
    "df[\"total_length\"] = df[\"petal_length\"] + df[\"sepal_length\"]"
   ]
  },
  {
   "cell_type": "markdown",
   "id": "blocked-hughes",
   "metadata": {
    "papermill": {
     "duration": 0.061496,
     "end_time": "2021-04-09T10:25:51.453092",
     "exception": false,
     "start_time": "2021-04-09T10:25:51.391596",
     "status": "completed"
    },
    "tags": []
   },
   "source": [
    "total.length'in ortalama değerini yazdıralım. "
   ]
  },
  {
   "cell_type": "code",
   "execution_count": 28,
   "id": "recorded-sheet",
   "metadata": {
    "execution": {
     "iopub.execute_input": "2021-04-09T10:25:51.584708Z",
     "iopub.status.busy": "2021-04-09T10:25:51.583763Z",
     "iopub.status.idle": "2021-04-09T10:25:51.589118Z",
     "shell.execute_reply": "2021-04-09T10:25:51.588584Z"
    },
    "papermill": {
     "duration": 0.073969,
     "end_time": "2021-04-09T10:25:51.589266",
     "exception": false,
     "start_time": "2021-04-09T10:25:51.515297",
     "status": "completed"
    },
    "tags": []
   },
   "outputs": [
    {
     "data": {
      "text/plain": [
       "9.602000000000004"
      ]
     },
     "execution_count": 28,
     "metadata": {},
     "output_type": "execute_result"
    }
   ],
   "source": [
    "df[\"total_length\"].mean()"
   ]
  },
  {
   "cell_type": "markdown",
   "id": "phantom-friendly",
   "metadata": {
    "papermill": {
     "duration": 0.063824,
     "end_time": "2021-04-09T10:25:51.715755",
     "exception": false,
     "start_time": "2021-04-09T10:25:51.651931",
     "status": "completed"
    },
    "tags": []
   },
   "source": [
    "total.length'in standart sapma değerini yazdıralım."
   ]
  },
  {
   "cell_type": "code",
   "execution_count": 29,
   "id": "ahead-bahrain",
   "metadata": {
    "execution": {
     "iopub.execute_input": "2021-04-09T10:25:51.847456Z",
     "iopub.status.busy": "2021-04-09T10:25:51.846456Z",
     "iopub.status.idle": "2021-04-09T10:25:51.851191Z",
     "shell.execute_reply": "2021-04-09T10:25:51.850546Z"
    },
    "papermill": {
     "duration": 0.073253,
     "end_time": "2021-04-09T10:25:51.851345",
     "exception": false,
     "start_time": "2021-04-09T10:25:51.778092",
     "status": "completed"
    },
    "tags": []
   },
   "outputs": [
    {
     "data": {
      "text/plain": [
       "2.5191739884121978"
      ]
     },
     "execution_count": 29,
     "metadata": {},
     "output_type": "execute_result"
    }
   ],
   "source": [
    "df[\"total_length\"].std()"
   ]
  },
  {
   "cell_type": "markdown",
   "id": "tracked-salvation",
   "metadata": {
    "papermill": {
     "duration": 0.064259,
     "end_time": "2021-04-09T10:25:51.978770",
     "exception": false,
     "start_time": "2021-04-09T10:25:51.914511",
     "status": "completed"
    },
    "tags": []
   },
   "source": [
    "sepal.length'in maksimum değerini yazdıralım."
   ]
  },
  {
   "cell_type": "code",
   "execution_count": 30,
   "id": "handled-currency",
   "metadata": {
    "execution": {
     "iopub.execute_input": "2021-04-09T10:25:52.113846Z",
     "iopub.status.busy": "2021-04-09T10:25:52.112634Z",
     "iopub.status.idle": "2021-04-09T10:25:52.118274Z",
     "shell.execute_reply": "2021-04-09T10:25:52.117497Z"
    },
    "papermill": {
     "duration": 0.074718,
     "end_time": "2021-04-09T10:25:52.118424",
     "exception": false,
     "start_time": "2021-04-09T10:25:52.043706",
     "status": "completed"
    },
    "tags": []
   },
   "outputs": [
    {
     "data": {
      "text/plain": [
       "7.9"
      ]
     },
     "execution_count": 30,
     "metadata": {},
     "output_type": "execute_result"
    }
   ],
   "source": [
    "df[\"sepal_length\"].max()"
   ]
  },
  {
   "cell_type": "markdown",
   "id": "enhanced-appeal",
   "metadata": {
    "papermill": {
     "duration": 0.063767,
     "end_time": "2021-04-09T10:25:52.246111",
     "exception": false,
     "start_time": "2021-04-09T10:25:52.182344",
     "status": "completed"
    },
    "tags": []
   },
   "source": [
    "sepal.length'i 5.5'den büyük ve türü setosa olan gözlemleri yazdıralım."
   ]
  },
  {
   "cell_type": "code",
   "execution_count": 31,
   "id": "psychological-archives",
   "metadata": {
    "execution": {
     "iopub.execute_input": "2021-04-09T10:25:52.385461Z",
     "iopub.status.busy": "2021-04-09T10:25:52.384465Z",
     "iopub.status.idle": "2021-04-09T10:25:52.389056Z",
     "shell.execute_reply": "2021-04-09T10:25:52.389544Z"
    },
    "papermill": {
     "duration": 0.080282,
     "end_time": "2021-04-09T10:25:52.389773",
     "exception": false,
     "start_time": "2021-04-09T10:25:52.309491",
     "status": "completed"
    },
    "tags": []
   },
   "outputs": [
    {
     "data": {
      "text/html": [
       "<div>\n",
       "<style scoped>\n",
       "    .dataframe tbody tr th:only-of-type {\n",
       "        vertical-align: middle;\n",
       "    }\n",
       "\n",
       "    .dataframe tbody tr th {\n",
       "        vertical-align: top;\n",
       "    }\n",
       "\n",
       "    .dataframe thead th {\n",
       "        text-align: right;\n",
       "    }\n",
       "</style>\n",
       "<table border=\"1\" class=\"dataframe\">\n",
       "  <thead>\n",
       "    <tr style=\"text-align: right;\">\n",
       "      <th></th>\n",
       "      <th>sepal_length</th>\n",
       "      <th>sepal_width</th>\n",
       "      <th>petal_length</th>\n",
       "      <th>petal_width</th>\n",
       "      <th>species</th>\n",
       "      <th>total_length</th>\n",
       "    </tr>\n",
       "  </thead>\n",
       "  <tbody>\n",
       "  </tbody>\n",
       "</table>\n",
       "</div>"
      ],
      "text/plain": [
       "Empty DataFrame\n",
       "Columns: [sepal_length, sepal_width, petal_length, petal_width, species, total_length]\n",
       "Index: []"
      ]
     },
     "execution_count": 31,
     "metadata": {},
     "output_type": "execute_result"
    }
   ],
   "source": [
    "df[(df[\"sepal_length\"] > 5.5) & (df[\"species\"] == \"Setosa\")]"
   ]
  },
  {
   "cell_type": "markdown",
   "id": "difficult-render",
   "metadata": {
    "papermill": {
     "duration": 0.064032,
     "end_time": "2021-04-09T10:25:52.518738",
     "exception": false,
     "start_time": "2021-04-09T10:25:52.454706",
     "status": "completed"
    },
    "tags": []
   },
   "source": [
    "petal.length'i 5'den küçük ve türü virginica olan gözlemlerin sadece sepal.length ve sepal.width değişkenlerini ve değerlerini yazdıralım."
   ]
  },
  {
   "cell_type": "code",
   "execution_count": 32,
   "id": "expected-cooler",
   "metadata": {
    "execution": {
     "iopub.execute_input": "2021-04-09T10:25:52.658938Z",
     "iopub.status.busy": "2021-04-09T10:25:52.658194Z",
     "iopub.status.idle": "2021-04-09T10:25:52.662808Z",
     "shell.execute_reply": "2021-04-09T10:25:52.662181Z"
    },
    "papermill": {
     "duration": 0.079732,
     "end_time": "2021-04-09T10:25:52.662969",
     "exception": false,
     "start_time": "2021-04-09T10:25:52.583237",
     "status": "completed"
    },
    "tags": []
   },
   "outputs": [
    {
     "data": {
      "text/html": [
       "<div>\n",
       "<style scoped>\n",
       "    .dataframe tbody tr th:only-of-type {\n",
       "        vertical-align: middle;\n",
       "    }\n",
       "\n",
       "    .dataframe tbody tr th {\n",
       "        vertical-align: top;\n",
       "    }\n",
       "\n",
       "    .dataframe thead th {\n",
       "        text-align: right;\n",
       "    }\n",
       "</style>\n",
       "<table border=\"1\" class=\"dataframe\">\n",
       "  <thead>\n",
       "    <tr style=\"text-align: right;\">\n",
       "      <th></th>\n",
       "      <th>sepal_length</th>\n",
       "      <th>sepal_width</th>\n",
       "    </tr>\n",
       "  </thead>\n",
       "  <tbody>\n",
       "  </tbody>\n",
       "</table>\n",
       "</div>"
      ],
      "text/plain": [
       "Empty DataFrame\n",
       "Columns: [sepal_length, sepal_width]\n",
       "Index: []"
      ]
     },
     "execution_count": 32,
     "metadata": {},
     "output_type": "execute_result"
    }
   ],
   "source": [
    "df[(df[\"petal_length\"] < 5) & (df[\"species\"] == \"Virginica\")][[\"sepal_length\",\"sepal_width\"]]"
   ]
  },
  {
   "cell_type": "markdown",
   "id": "protected-object",
   "metadata": {
    "papermill": {
     "duration": 0.063656,
     "end_time": "2021-04-09T10:25:52.793833",
     "exception": false,
     "start_time": "2021-04-09T10:25:52.730177",
     "status": "completed"
    },
    "tags": []
   },
   "source": [
    "Hedef değişkenimiz species'e göre bir gruplama işlemi yapalım değişken değerlerimizin ortalamasını görüntüleyelim."
   ]
  },
  {
   "cell_type": "code",
   "execution_count": 33,
   "id": "rolled-place",
   "metadata": {
    "execution": {
     "iopub.execute_input": "2021-04-09T10:25:52.940269Z",
     "iopub.status.busy": "2021-04-09T10:25:52.939409Z",
     "iopub.status.idle": "2021-04-09T10:25:52.945458Z",
     "shell.execute_reply": "2021-04-09T10:25:52.944849Z"
    },
    "papermill": {
     "duration": 0.08596,
     "end_time": "2021-04-09T10:25:52.945611",
     "exception": false,
     "start_time": "2021-04-09T10:25:52.859651",
     "status": "completed"
    },
    "tags": []
   },
   "outputs": [
    {
     "data": {
      "text/html": [
       "<div>\n",
       "<style scoped>\n",
       "    .dataframe tbody tr th:only-of-type {\n",
       "        vertical-align: middle;\n",
       "    }\n",
       "\n",
       "    .dataframe tbody tr th {\n",
       "        vertical-align: top;\n",
       "    }\n",
       "\n",
       "    .dataframe thead th {\n",
       "        text-align: right;\n",
       "    }\n",
       "</style>\n",
       "<table border=\"1\" class=\"dataframe\">\n",
       "  <thead>\n",
       "    <tr style=\"text-align: right;\">\n",
       "      <th></th>\n",
       "      <th>sepal_length</th>\n",
       "      <th>sepal_width</th>\n",
       "      <th>petal_length</th>\n",
       "      <th>petal_width</th>\n",
       "      <th>total_length</th>\n",
       "    </tr>\n",
       "    <tr>\n",
       "      <th>species</th>\n",
       "      <th></th>\n",
       "      <th></th>\n",
       "      <th></th>\n",
       "      <th></th>\n",
       "      <th></th>\n",
       "    </tr>\n",
       "  </thead>\n",
       "  <tbody>\n",
       "    <tr>\n",
       "      <th>Iris-setosa</th>\n",
       "      <td>5.006</td>\n",
       "      <td>3.418</td>\n",
       "      <td>1.464</td>\n",
       "      <td>0.244</td>\n",
       "      <td>6.470</td>\n",
       "    </tr>\n",
       "    <tr>\n",
       "      <th>Iris-versicolor</th>\n",
       "      <td>5.936</td>\n",
       "      <td>2.770</td>\n",
       "      <td>4.260</td>\n",
       "      <td>1.326</td>\n",
       "      <td>10.196</td>\n",
       "    </tr>\n",
       "    <tr>\n",
       "      <th>Iris-virginica</th>\n",
       "      <td>6.588</td>\n",
       "      <td>2.974</td>\n",
       "      <td>5.552</td>\n",
       "      <td>2.026</td>\n",
       "      <td>12.140</td>\n",
       "    </tr>\n",
       "  </tbody>\n",
       "</table>\n",
       "</div>"
      ],
      "text/plain": [
       "                 sepal_length  sepal_width  petal_length  petal_width  \\\n",
       "species                                                                 \n",
       "Iris-setosa             5.006        3.418         1.464        0.244   \n",
       "Iris-versicolor         5.936        2.770         4.260        1.326   \n",
       "Iris-virginica          6.588        2.974         5.552        2.026   \n",
       "\n",
       "                 total_length  \n",
       "species                        \n",
       "Iris-setosa             6.470  \n",
       "Iris-versicolor        10.196  \n",
       "Iris-virginica         12.140  "
      ]
     },
     "execution_count": 33,
     "metadata": {},
     "output_type": "execute_result"
    }
   ],
   "source": [
    "df.groupby([\"species\"]).mean()"
   ]
  },
  {
   "cell_type": "markdown",
   "id": "appreciated-islam",
   "metadata": {
    "papermill": {
     "duration": 0.079374,
     "end_time": "2021-04-09T10:25:53.108569",
     "exception": false,
     "start_time": "2021-04-09T10:25:53.029195",
     "status": "completed"
    },
    "tags": []
   },
   "source": [
    "Hedef değişkenimiz species'e göre gruplama işlemi yaparak sadece petal.length değişkenimizin standart sapma değerlerini yazdıralım. "
   ]
  },
  {
   "cell_type": "code",
   "execution_count": 34,
   "id": "expensive-serve",
   "metadata": {
    "execution": {
     "iopub.execute_input": "2021-04-09T10:25:53.250755Z",
     "iopub.status.busy": "2021-04-09T10:25:53.249956Z",
     "iopub.status.idle": "2021-04-09T10:25:53.254906Z",
     "shell.execute_reply": "2021-04-09T10:25:53.254223Z"
    },
    "papermill": {
     "duration": 0.079032,
     "end_time": "2021-04-09T10:25:53.255057",
     "exception": false,
     "start_time": "2021-04-09T10:25:53.176025",
     "status": "completed"
    },
    "tags": []
   },
   "outputs": [
    {
     "data": {
      "text/plain": [
       "species\n",
       "Iris-setosa        0.173511\n",
       "Iris-versicolor    0.469911\n",
       "Iris-virginica     0.551895\n",
       "Name: petal_length, dtype: float64"
      ]
     },
     "execution_count": 34,
     "metadata": {},
     "output_type": "execute_result"
    }
   ],
   "source": [
    "df.groupby([\"species\"])[\"petal_length\"].std()"
   ]
  },
  {
   "cell_type": "markdown",
   "id": "iraqi-thomson",
   "metadata": {
    "papermill": {
     "duration": 0.066094,
     "end_time": "2021-04-09T10:25:53.387914",
     "exception": false,
     "start_time": "2021-04-09T10:25:53.321820",
     "status": "completed"
    },
    "tags": []
   },
   "source": [
    "Emeğiniz, ayırdığınız vakit ve ilginiz için teşekkürler."
   ]
  }
 ],
 "metadata": {
  "kernelspec": {
   "display_name": "Python 3",
   "language": "python",
   "name": "python3"
  },
  "language_info": {
   "codemirror_mode": {
    "name": "ipython",
    "version": 3
   },
   "file_extension": ".py",
   "mimetype": "text/x-python",
   "name": "python",
   "nbconvert_exporter": "python",
   "pygments_lexer": "ipython3",
   "version": "3.7.9"
  },
  "papermill": {
   "default_parameters": {},
   "duration": 21.609145,
   "end_time": "2021-04-09T10:25:54.166495",
   "environment_variables": {},
   "exception": null,
   "input_path": "__notebook__.ipynb",
   "output_path": "__notebook__.ipynb",
   "parameters": {},
   "start_time": "2021-04-09T10:25:32.557350",
   "version": "2.3.2"
  }
 },
 "nbformat": 4,
 "nbformat_minor": 5
}
